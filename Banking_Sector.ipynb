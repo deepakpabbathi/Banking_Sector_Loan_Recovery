{
  "nbformat": 4,
  "nbformat_minor": 0,
  "metadata": {
    "colab": {
      "name": "Banking_Sector.ipynb",
      "provenance": []
    },
    "kernelspec": {
      "name": "python3",
      "display_name": "Python 3"
    }
  },
  "cells": [
    {
      "cell_type": "code",
      "metadata": {
        "id": "_b-npJAsc5Uz",
        "colab_type": "code",
        "colab": {
          "base_uri": "https://localhost:8080/",
          "height": 122
        },
        "outputId": "82ca4845-59bc-42b0-9c4a-8556edf088c7"
      },
      "source": [
        "from google.colab import drive\n",
        "drive.mount('/content/gdrive')"
      ],
      "execution_count": 1,
      "outputs": [
        {
          "output_type": "stream",
          "text": [
            "Go to this URL in a browser: https://accounts.google.com/o/oauth2/auth?client_id=947318989803-6bn6qk8qdgf4n4g3pfee6491hc0brc4i.apps.googleusercontent.com&redirect_uri=urn%3aietf%3awg%3aoauth%3a2.0%3aoob&response_type=code&scope=email%20https%3a%2f%2fwww.googleapis.com%2fauth%2fdocs.test%20https%3a%2f%2fwww.googleapis.com%2fauth%2fdrive%20https%3a%2f%2fwww.googleapis.com%2fauth%2fdrive.photos.readonly%20https%3a%2f%2fwww.googleapis.com%2fauth%2fpeopleapi.readonly\n",
            "\n",
            "Enter your authorization code:\n",
            "··········\n",
            "Mounted at /content/gdrive\n"
          ],
          "name": "stdout"
        }
      ]
    },
    {
      "cell_type": "code",
      "metadata": {
        "id": "pc1zADypdohN",
        "colab_type": "code",
        "colab": {
          "base_uri": "https://localhost:8080/",
          "height": 34
        },
        "outputId": "dd0e85f2-7863-481a-ee3d-c0c11810a8c3"
      },
      "source": [
        "!ls"
      ],
      "execution_count": 2,
      "outputs": [
        {
          "output_type": "stream",
          "text": [
            "gdrive\tsample_data\n"
          ],
          "name": "stdout"
        }
      ]
    },
    {
      "cell_type": "code",
      "metadata": {
        "id": "zwnlXU7edzOu",
        "colab_type": "code",
        "colab": {}
      },
      "source": [
        "## import necessary libraries\n",
        "import numpy as np\n",
        "import pandas as pd\n",
        "import os\n",
        "from sklearn.model_selection import train_test_split\n",
        "from sklearn.preprocessing import LabelEncoder ## For label encoding(converting categorical values to label)\n",
        "from xgboost import XGBClassifier ## XG boost model\n",
        "from sklearn.model_selection import GridSearchCV ##For Grid search(cross validation)\n",
        "from sklearn.metrics import accuracy_score ## For getting accuracy value\n",
        "from sklearn.metrics import confusion_matrix,classification_report ## For classifier metrics(accuracy,TPR,TNR)\n",
        "from sklearn.ensemble import GradientBoostingClassifier ## GradientBoost Model"
      ],
      "execution_count": 0,
      "outputs": []
    },
    {
      "cell_type": "code",
      "metadata": {
        "id": "gOPTleSmd13h",
        "colab_type": "code",
        "colab": {}
      },
      "source": [
        "train_data=pd.read_csv('/content/gdrive/My Drive/Analytic_vidya/train_fNxu4vz.csv')\n",
        "test_data=pd.read_csv('/content/gdrive/My Drive/Analytic_vidya/test_fjtUOL8.csv')"
      ],
      "execution_count": 0,
      "outputs": []
    },
    {
      "cell_type": "code",
      "metadata": {
        "id": "Y7kJpS6wfNeW",
        "colab_type": "code",
        "colab": {
          "base_uri": "https://localhost:8080/",
          "height": 51
        },
        "outputId": "b04d5251-bf62-454f-89a5-cfb97f2b00a3"
      },
      "source": [
        "print(train_data.shape)\n",
        "print(test_data.shape)"
      ],
      "execution_count": 343,
      "outputs": [
        {
          "output_type": "stream",
          "text": [
            "(164309, 14)\n",
            "(109541, 13)\n"
          ],
          "name": "stdout"
        }
      ]
    },
    {
      "cell_type": "code",
      "metadata": {
        "id": "inNtk8zGeNPE",
        "colab_type": "code",
        "colab": {
          "base_uri": "https://localhost:8080/",
          "height": 196
        },
        "outputId": "daea09d9-bb84-498a-9ea5-09cf0ca0a18e"
      },
      "source": [
        "train_data.head(3)"
      ],
      "execution_count": 344,
      "outputs": [
        {
          "output_type": "execute_result",
          "data": {
            "text/html": [
              "<div>\n",
              "<style scoped>\n",
              "    .dataframe tbody tr th:only-of-type {\n",
              "        vertical-align: middle;\n",
              "    }\n",
              "\n",
              "    .dataframe tbody tr th {\n",
              "        vertical-align: top;\n",
              "    }\n",
              "\n",
              "    .dataframe thead th {\n",
              "        text-align: right;\n",
              "    }\n",
              "</style>\n",
              "<table border=\"1\" class=\"dataframe\">\n",
              "  <thead>\n",
              "    <tr style=\"text-align: right;\">\n",
              "      <th></th>\n",
              "      <th>Loan_ID</th>\n",
              "      <th>Loan_Amount_Requested</th>\n",
              "      <th>Length_Employed</th>\n",
              "      <th>Home_Owner</th>\n",
              "      <th>Annual_Income</th>\n",
              "      <th>Income_Verified</th>\n",
              "      <th>Purpose_Of_Loan</th>\n",
              "      <th>Debt_To_Income</th>\n",
              "      <th>Inquiries_Last_6Mo</th>\n",
              "      <th>Months_Since_Deliquency</th>\n",
              "      <th>Number_Open_Accounts</th>\n",
              "      <th>Total_Accounts</th>\n",
              "      <th>Gender</th>\n",
              "      <th>Interest_Rate</th>\n",
              "    </tr>\n",
              "  </thead>\n",
              "  <tbody>\n",
              "    <tr>\n",
              "      <th>0</th>\n",
              "      <td>10000001</td>\n",
              "      <td>7,000</td>\n",
              "      <td>&lt; 1 year</td>\n",
              "      <td>Rent</td>\n",
              "      <td>68000.0</td>\n",
              "      <td>not verified</td>\n",
              "      <td>car</td>\n",
              "      <td>18.37</td>\n",
              "      <td>0</td>\n",
              "      <td>NaN</td>\n",
              "      <td>9</td>\n",
              "      <td>14</td>\n",
              "      <td>Female</td>\n",
              "      <td>1</td>\n",
              "    </tr>\n",
              "    <tr>\n",
              "      <th>1</th>\n",
              "      <td>10000002</td>\n",
              "      <td>30,000</td>\n",
              "      <td>4 years</td>\n",
              "      <td>Mortgage</td>\n",
              "      <td>NaN</td>\n",
              "      <td>VERIFIED - income</td>\n",
              "      <td>debt_consolidation</td>\n",
              "      <td>14.93</td>\n",
              "      <td>0</td>\n",
              "      <td>17.0</td>\n",
              "      <td>12</td>\n",
              "      <td>24</td>\n",
              "      <td>Female</td>\n",
              "      <td>3</td>\n",
              "    </tr>\n",
              "    <tr>\n",
              "      <th>2</th>\n",
              "      <td>10000003</td>\n",
              "      <td>24,725</td>\n",
              "      <td>7 years</td>\n",
              "      <td>Mortgage</td>\n",
              "      <td>75566.4</td>\n",
              "      <td>VERIFIED - income source</td>\n",
              "      <td>debt_consolidation</td>\n",
              "      <td>15.88</td>\n",
              "      <td>0</td>\n",
              "      <td>NaN</td>\n",
              "      <td>12</td>\n",
              "      <td>16</td>\n",
              "      <td>Male</td>\n",
              "      <td>3</td>\n",
              "    </tr>\n",
              "  </tbody>\n",
              "</table>\n",
              "</div>"
            ],
            "text/plain": [
              "    Loan_ID Loan_Amount_Requested  ...  Gender Interest_Rate\n",
              "0  10000001                 7,000  ...  Female             1\n",
              "1  10000002                30,000  ...  Female             3\n",
              "2  10000003                24,725  ...    Male             3\n",
              "\n",
              "[3 rows x 14 columns]"
            ]
          },
          "metadata": {
            "tags": []
          },
          "execution_count": 344
        }
      ]
    },
    {
      "cell_type": "code",
      "metadata": {
        "id": "yNCpddVqftm8",
        "colab_type": "code",
        "colab": {
          "base_uri": "https://localhost:8080/",
          "height": 196
        },
        "outputId": "60e294bf-9c15-473f-e147-f307b9947ea7"
      },
      "source": [
        "test_data.head(3)"
      ],
      "execution_count": 345,
      "outputs": [
        {
          "output_type": "execute_result",
          "data": {
            "text/html": [
              "<div>\n",
              "<style scoped>\n",
              "    .dataframe tbody tr th:only-of-type {\n",
              "        vertical-align: middle;\n",
              "    }\n",
              "\n",
              "    .dataframe tbody tr th {\n",
              "        vertical-align: top;\n",
              "    }\n",
              "\n",
              "    .dataframe thead th {\n",
              "        text-align: right;\n",
              "    }\n",
              "</style>\n",
              "<table border=\"1\" class=\"dataframe\">\n",
              "  <thead>\n",
              "    <tr style=\"text-align: right;\">\n",
              "      <th></th>\n",
              "      <th>Loan_ID</th>\n",
              "      <th>Loan_Amount_Requested</th>\n",
              "      <th>Length_Employed</th>\n",
              "      <th>Home_Owner</th>\n",
              "      <th>Annual_Income</th>\n",
              "      <th>Income_Verified</th>\n",
              "      <th>Purpose_Of_Loan</th>\n",
              "      <th>Debt_To_Income</th>\n",
              "      <th>Inquiries_Last_6Mo</th>\n",
              "      <th>Months_Since_Deliquency</th>\n",
              "      <th>Number_Open_Accounts</th>\n",
              "      <th>Total_Accounts</th>\n",
              "      <th>Gender</th>\n",
              "    </tr>\n",
              "  </thead>\n",
              "  <tbody>\n",
              "    <tr>\n",
              "      <th>0</th>\n",
              "      <td>10164310</td>\n",
              "      <td>27,500</td>\n",
              "      <td>10+ years</td>\n",
              "      <td>Mortgage</td>\n",
              "      <td>129000.0</td>\n",
              "      <td>VERIFIED - income</td>\n",
              "      <td>debt_consolidation</td>\n",
              "      <td>12.87</td>\n",
              "      <td>0</td>\n",
              "      <td>68.0</td>\n",
              "      <td>10</td>\n",
              "      <td>37</td>\n",
              "      <td>Male</td>\n",
              "    </tr>\n",
              "    <tr>\n",
              "      <th>1</th>\n",
              "      <td>10164311</td>\n",
              "      <td>26,000</td>\n",
              "      <td>10+ years</td>\n",
              "      <td>NaN</td>\n",
              "      <td>110000.0</td>\n",
              "      <td>not verified</td>\n",
              "      <td>credit_card</td>\n",
              "      <td>11.37</td>\n",
              "      <td>0</td>\n",
              "      <td>NaN</td>\n",
              "      <td>6</td>\n",
              "      <td>23</td>\n",
              "      <td>Male</td>\n",
              "    </tr>\n",
              "    <tr>\n",
              "      <th>2</th>\n",
              "      <td>10164312</td>\n",
              "      <td>6,075</td>\n",
              "      <td>&lt; 1 year</td>\n",
              "      <td>Rent</td>\n",
              "      <td>75000.0</td>\n",
              "      <td>VERIFIED - income</td>\n",
              "      <td>debt_consolidation</td>\n",
              "      <td>6.83</td>\n",
              "      <td>2</td>\n",
              "      <td>NaN</td>\n",
              "      <td>5</td>\n",
              "      <td>20</td>\n",
              "      <td>Male</td>\n",
              "    </tr>\n",
              "  </tbody>\n",
              "</table>\n",
              "</div>"
            ],
            "text/plain": [
              "    Loan_ID Loan_Amount_Requested  ... Total_Accounts Gender\n",
              "0  10164310                27,500  ...             37   Male\n",
              "1  10164311                26,000  ...             23   Male\n",
              "2  10164312                 6,075  ...             20   Male\n",
              "\n",
              "[3 rows x 13 columns]"
            ]
          },
          "metadata": {
            "tags": []
          },
          "execution_count": 345
        }
      ]
    },
    {
      "cell_type": "code",
      "metadata": {
        "id": "Vr3e7hlTecte",
        "colab_type": "code",
        "colab": {
          "base_uri": "https://localhost:8080/",
          "height": 196
        },
        "outputId": "be5c8653-19be-4e51-edc4-75e50bf76c90"
      },
      "source": [
        "train_data.tail(3)"
      ],
      "execution_count": 346,
      "outputs": [
        {
          "output_type": "execute_result",
          "data": {
            "text/html": [
              "<div>\n",
              "<style scoped>\n",
              "    .dataframe tbody tr th:only-of-type {\n",
              "        vertical-align: middle;\n",
              "    }\n",
              "\n",
              "    .dataframe tbody tr th {\n",
              "        vertical-align: top;\n",
              "    }\n",
              "\n",
              "    .dataframe thead th {\n",
              "        text-align: right;\n",
              "    }\n",
              "</style>\n",
              "<table border=\"1\" class=\"dataframe\">\n",
              "  <thead>\n",
              "    <tr style=\"text-align: right;\">\n",
              "      <th></th>\n",
              "      <th>Loan_ID</th>\n",
              "      <th>Loan_Amount_Requested</th>\n",
              "      <th>Length_Employed</th>\n",
              "      <th>Home_Owner</th>\n",
              "      <th>Annual_Income</th>\n",
              "      <th>Income_Verified</th>\n",
              "      <th>Purpose_Of_Loan</th>\n",
              "      <th>Debt_To_Income</th>\n",
              "      <th>Inquiries_Last_6Mo</th>\n",
              "      <th>Months_Since_Deliquency</th>\n",
              "      <th>Number_Open_Accounts</th>\n",
              "      <th>Total_Accounts</th>\n",
              "      <th>Gender</th>\n",
              "      <th>Interest_Rate</th>\n",
              "    </tr>\n",
              "  </thead>\n",
              "  <tbody>\n",
              "    <tr>\n",
              "      <th>164306</th>\n",
              "      <td>10164307</td>\n",
              "      <td>20,250</td>\n",
              "      <td>10+ years</td>\n",
              "      <td>Mortgage</td>\n",
              "      <td>NaN</td>\n",
              "      <td>VERIFIED - income</td>\n",
              "      <td>credit_card</td>\n",
              "      <td>18.17</td>\n",
              "      <td>1</td>\n",
              "      <td>NaN</td>\n",
              "      <td>17</td>\n",
              "      <td>30</td>\n",
              "      <td>Male</td>\n",
              "      <td>1</td>\n",
              "    </tr>\n",
              "    <tr>\n",
              "      <th>164307</th>\n",
              "      <td>10164308</td>\n",
              "      <td>10,000</td>\n",
              "      <td>4 years</td>\n",
              "      <td>Rent</td>\n",
              "      <td>NaN</td>\n",
              "      <td>not verified</td>\n",
              "      <td>major_purchase</td>\n",
              "      <td>18.75</td>\n",
              "      <td>1</td>\n",
              "      <td>48.0</td>\n",
              "      <td>16</td>\n",
              "      <td>62</td>\n",
              "      <td>Female</td>\n",
              "      <td>3</td>\n",
              "    </tr>\n",
              "    <tr>\n",
              "      <th>164308</th>\n",
              "      <td>10164309</td>\n",
              "      <td>9,250</td>\n",
              "      <td>10+ years</td>\n",
              "      <td>Rent</td>\n",
              "      <td>NaN</td>\n",
              "      <td>VERIFIED - income</td>\n",
              "      <td>credit_card</td>\n",
              "      <td>19.44</td>\n",
              "      <td>1</td>\n",
              "      <td>NaN</td>\n",
              "      <td>5</td>\n",
              "      <td>9</td>\n",
              "      <td>Female</td>\n",
              "      <td>2</td>\n",
              "    </tr>\n",
              "  </tbody>\n",
              "</table>\n",
              "</div>"
            ],
            "text/plain": [
              "         Loan_ID Loan_Amount_Requested  ...  Gender Interest_Rate\n",
              "164306  10164307                20,250  ...    Male             1\n",
              "164307  10164308                10,000  ...  Female             3\n",
              "164308  10164309                 9,250  ...  Female             2\n",
              "\n",
              "[3 rows x 14 columns]"
            ]
          },
          "metadata": {
            "tags": []
          },
          "execution_count": 346
        }
      ]
    },
    {
      "cell_type": "code",
      "metadata": {
        "id": "mdvv76mqfEVC",
        "colab_type": "code",
        "colab": {
          "base_uri": "https://localhost:8080/",
          "height": 162
        },
        "outputId": "1c804790-3193-44e4-b92d-5d04a4639d77"
      },
      "source": [
        "test_data.tail(3)"
      ],
      "execution_count": 347,
      "outputs": [
        {
          "output_type": "execute_result",
          "data": {
            "text/html": [
              "<div>\n",
              "<style scoped>\n",
              "    .dataframe tbody tr th:only-of-type {\n",
              "        vertical-align: middle;\n",
              "    }\n",
              "\n",
              "    .dataframe tbody tr th {\n",
              "        vertical-align: top;\n",
              "    }\n",
              "\n",
              "    .dataframe thead th {\n",
              "        text-align: right;\n",
              "    }\n",
              "</style>\n",
              "<table border=\"1\" class=\"dataframe\">\n",
              "  <thead>\n",
              "    <tr style=\"text-align: right;\">\n",
              "      <th></th>\n",
              "      <th>Loan_ID</th>\n",
              "      <th>Loan_Amount_Requested</th>\n",
              "      <th>Length_Employed</th>\n",
              "      <th>Home_Owner</th>\n",
              "      <th>Annual_Income</th>\n",
              "      <th>Income_Verified</th>\n",
              "      <th>Purpose_Of_Loan</th>\n",
              "      <th>Debt_To_Income</th>\n",
              "      <th>Inquiries_Last_6Mo</th>\n",
              "      <th>Months_Since_Deliquency</th>\n",
              "      <th>Number_Open_Accounts</th>\n",
              "      <th>Total_Accounts</th>\n",
              "      <th>Gender</th>\n",
              "    </tr>\n",
              "  </thead>\n",
              "  <tbody>\n",
              "    <tr>\n",
              "      <th>109538</th>\n",
              "      <td>10273848</td>\n",
              "      <td>2,000</td>\n",
              "      <td>5 years</td>\n",
              "      <td>Rent</td>\n",
              "      <td>37850.0</td>\n",
              "      <td>not verified</td>\n",
              "      <td>credit_card</td>\n",
              "      <td>11.60</td>\n",
              "      <td>0</td>\n",
              "      <td>NaN</td>\n",
              "      <td>10</td>\n",
              "      <td>11</td>\n",
              "      <td>Male</td>\n",
              "    </tr>\n",
              "    <tr>\n",
              "      <th>109539</th>\n",
              "      <td>10273849</td>\n",
              "      <td>2,125</td>\n",
              "      <td>6 years</td>\n",
              "      <td>Rent</td>\n",
              "      <td>30000.0</td>\n",
              "      <td>not verified</td>\n",
              "      <td>other</td>\n",
              "      <td>24.88</td>\n",
              "      <td>0</td>\n",
              "      <td>NaN</td>\n",
              "      <td>5</td>\n",
              "      <td>6</td>\n",
              "      <td>Male</td>\n",
              "    </tr>\n",
              "    <tr>\n",
              "      <th>109540</th>\n",
              "      <td>10273850</td>\n",
              "      <td>15,000</td>\n",
              "      <td>2 years</td>\n",
              "      <td>Mortgage</td>\n",
              "      <td>137000.0</td>\n",
              "      <td>not verified</td>\n",
              "      <td>medical</td>\n",
              "      <td>8.66</td>\n",
              "      <td>1</td>\n",
              "      <td>60.0</td>\n",
              "      <td>8</td>\n",
              "      <td>17</td>\n",
              "      <td>Male</td>\n",
              "    </tr>\n",
              "  </tbody>\n",
              "</table>\n",
              "</div>"
            ],
            "text/plain": [
              "         Loan_ID Loan_Amount_Requested  ... Total_Accounts Gender\n",
              "109538  10273848                 2,000  ...             11   Male\n",
              "109539  10273849                 2,125  ...              6   Male\n",
              "109540  10273850                15,000  ...             17   Male\n",
              "\n",
              "[3 rows x 13 columns]"
            ]
          },
          "metadata": {
            "tags": []
          },
          "execution_count": 347
        }
      ]
    },
    {
      "cell_type": "markdown",
      "metadata": {
        "id": "HF_J9jrTgEm-",
        "colab_type": "text"
      },
      "source": [
        "### Understanding the data"
      ]
    },
    {
      "cell_type": "code",
      "metadata": {
        "id": "cXK4PfKcfq_z",
        "colab_type": "code",
        "colab": {}
      },
      "source": [
        "def understand_data(data) :\n",
        "    return(pd.DataFrame({\"Datatype\":data.dtypes,\"No of NAs\":data.isna().sum(),\n",
        "                         \"No of Levels\":data.apply(lambda x: x.nunique(),axis=0),\"Levels\":data.apply(lambda x: str(x.unique()),axis=0)}))"
      ],
      "execution_count": 0,
      "outputs": []
    },
    {
      "cell_type": "code",
      "metadata": {
        "id": "O4CUTCGQgK7q",
        "colab_type": "code",
        "colab": {
          "base_uri": "https://localhost:8080/",
          "height": 483
        },
        "outputId": "8814a8f4-688b-4d4b-be83-29c18f709bb6"
      },
      "source": [
        "understand_data(train_data)"
      ],
      "execution_count": 349,
      "outputs": [
        {
          "output_type": "execute_result",
          "data": {
            "text/html": [
              "<div>\n",
              "<style scoped>\n",
              "    .dataframe tbody tr th:only-of-type {\n",
              "        vertical-align: middle;\n",
              "    }\n",
              "\n",
              "    .dataframe tbody tr th {\n",
              "        vertical-align: top;\n",
              "    }\n",
              "\n",
              "    .dataframe thead th {\n",
              "        text-align: right;\n",
              "    }\n",
              "</style>\n",
              "<table border=\"1\" class=\"dataframe\">\n",
              "  <thead>\n",
              "    <tr style=\"text-align: right;\">\n",
              "      <th></th>\n",
              "      <th>Datatype</th>\n",
              "      <th>No of NAs</th>\n",
              "      <th>No of Levels</th>\n",
              "      <th>Levels</th>\n",
              "    </tr>\n",
              "  </thead>\n",
              "  <tbody>\n",
              "    <tr>\n",
              "      <th>Loan_ID</th>\n",
              "      <td>int64</td>\n",
              "      <td>0</td>\n",
              "      <td>164309</td>\n",
              "      <td>[10000001 10000002 10000003 ... 10164307 10164...</td>\n",
              "    </tr>\n",
              "    <tr>\n",
              "      <th>Loan_Amount_Requested</th>\n",
              "      <td>object</td>\n",
              "      <td>0</td>\n",
              "      <td>1290</td>\n",
              "      <td>['7,000' '30,000' '24,725' ... '28,950' '33,32...</td>\n",
              "    </tr>\n",
              "    <tr>\n",
              "      <th>Length_Employed</th>\n",
              "      <td>object</td>\n",
              "      <td>7371</td>\n",
              "      <td>11</td>\n",
              "      <td>['&lt; 1 year' '4 years' '7 years' '8 years' '2 y...</td>\n",
              "    </tr>\n",
              "    <tr>\n",
              "      <th>Home_Owner</th>\n",
              "      <td>object</td>\n",
              "      <td>25349</td>\n",
              "      <td>5</td>\n",
              "      <td>['Rent' 'Mortgage' nan 'Own' 'Other' 'None']</td>\n",
              "    </tr>\n",
              "    <tr>\n",
              "      <th>Annual_Income</th>\n",
              "      <td>float64</td>\n",
              "      <td>25102</td>\n",
              "      <td>12305</td>\n",
              "      <td>[68000.0 nan 75566.4 ... 51024.0 28721.4 24864.0]</td>\n",
              "    </tr>\n",
              "    <tr>\n",
              "      <th>Income_Verified</th>\n",
              "      <td>object</td>\n",
              "      <td>0</td>\n",
              "      <td>3</td>\n",
              "      <td>['not verified' 'VERIFIED - income' 'VERIFIED ...</td>\n",
              "    </tr>\n",
              "    <tr>\n",
              "      <th>Purpose_Of_Loan</th>\n",
              "      <td>object</td>\n",
              "      <td>0</td>\n",
              "      <td>14</td>\n",
              "      <td>['car' 'debt_consolidation' 'credit_card' 'hom...</td>\n",
              "    </tr>\n",
              "    <tr>\n",
              "      <th>Debt_To_Income</th>\n",
              "      <td>float64</td>\n",
              "      <td>0</td>\n",
              "      <td>3953</td>\n",
              "      <td>[18.37 14.93 15.88 ... 38.03 39.04 35.06]</td>\n",
              "    </tr>\n",
              "    <tr>\n",
              "      <th>Inquiries_Last_6Mo</th>\n",
              "      <td>int64</td>\n",
              "      <td>0</td>\n",
              "      <td>9</td>\n",
              "      <td>[0 3 1 2 4 5 6 7 8]</td>\n",
              "    </tr>\n",
              "    <tr>\n",
              "      <th>Months_Since_Deliquency</th>\n",
              "      <td>float64</td>\n",
              "      <td>88379</td>\n",
              "      <td>122</td>\n",
              "      <td>[nan 17.0 16.0 68.0 13.0 6.0 64.0 10.0 63.0 33...</td>\n",
              "    </tr>\n",
              "    <tr>\n",
              "      <th>Number_Open_Accounts</th>\n",
              "      <td>int64</td>\n",
              "      <td>0</td>\n",
              "      <td>58</td>\n",
              "      <td>[9 12 16 19 25 8 24 7 5 20 10 15 6 14 11 29 4 ...</td>\n",
              "    </tr>\n",
              "    <tr>\n",
              "      <th>Total_Accounts</th>\n",
              "      <td>int64</td>\n",
              "      <td>0</td>\n",
              "      <td>100</td>\n",
              "      <td>[14 24 16 22 30 15 12 31 9 43 13 17 28 26 21 2...</td>\n",
              "    </tr>\n",
              "    <tr>\n",
              "      <th>Gender</th>\n",
              "      <td>object</td>\n",
              "      <td>0</td>\n",
              "      <td>2</td>\n",
              "      <td>['Female' 'Male']</td>\n",
              "    </tr>\n",
              "    <tr>\n",
              "      <th>Interest_Rate</th>\n",
              "      <td>int64</td>\n",
              "      <td>0</td>\n",
              "      <td>3</td>\n",
              "      <td>[1 3 2]</td>\n",
              "    </tr>\n",
              "  </tbody>\n",
              "</table>\n",
              "</div>"
            ],
            "text/plain": [
              "                        Datatype  ...                                             Levels\n",
              "Loan_ID                    int64  ...  [10000001 10000002 10000003 ... 10164307 10164...\n",
              "Loan_Amount_Requested     object  ...  ['7,000' '30,000' '24,725' ... '28,950' '33,32...\n",
              "Length_Employed           object  ...  ['< 1 year' '4 years' '7 years' '8 years' '2 y...\n",
              "Home_Owner                object  ...       ['Rent' 'Mortgage' nan 'Own' 'Other' 'None']\n",
              "Annual_Income            float64  ...  [68000.0 nan 75566.4 ... 51024.0 28721.4 24864.0]\n",
              "Income_Verified           object  ...  ['not verified' 'VERIFIED - income' 'VERIFIED ...\n",
              "Purpose_Of_Loan           object  ...  ['car' 'debt_consolidation' 'credit_card' 'hom...\n",
              "Debt_To_Income           float64  ...          [18.37 14.93 15.88 ... 38.03 39.04 35.06]\n",
              "Inquiries_Last_6Mo         int64  ...                                [0 3 1 2 4 5 6 7 8]\n",
              "Months_Since_Deliquency  float64  ...  [nan 17.0 16.0 68.0 13.0 6.0 64.0 10.0 63.0 33...\n",
              "Number_Open_Accounts       int64  ...  [9 12 16 19 25 8 24 7 5 20 10 15 6 14 11 29 4 ...\n",
              "Total_Accounts             int64  ...  [14 24 16 22 30 15 12 31 9 43 13 17 28 26 21 2...\n",
              "Gender                    object  ...                                  ['Female' 'Male']\n",
              "Interest_Rate              int64  ...                                            [1 3 2]\n",
              "\n",
              "[14 rows x 4 columns]"
            ]
          },
          "metadata": {
            "tags": []
          },
          "execution_count": 349
        }
      ]
    },
    {
      "cell_type": "code",
      "metadata": {
        "id": "RZvMp-55wTT5",
        "colab_type": "code",
        "colab": {
          "base_uri": "https://localhost:8080/",
          "height": 452
        },
        "outputId": "bf5ff538-ccec-4735-f508-5e307f4be4f5"
      },
      "source": [
        "understand_data(test_data)"
      ],
      "execution_count": 350,
      "outputs": [
        {
          "output_type": "execute_result",
          "data": {
            "text/html": [
              "<div>\n",
              "<style scoped>\n",
              "    .dataframe tbody tr th:only-of-type {\n",
              "        vertical-align: middle;\n",
              "    }\n",
              "\n",
              "    .dataframe tbody tr th {\n",
              "        vertical-align: top;\n",
              "    }\n",
              "\n",
              "    .dataframe thead th {\n",
              "        text-align: right;\n",
              "    }\n",
              "</style>\n",
              "<table border=\"1\" class=\"dataframe\">\n",
              "  <thead>\n",
              "    <tr style=\"text-align: right;\">\n",
              "      <th></th>\n",
              "      <th>Datatype</th>\n",
              "      <th>No of NAs</th>\n",
              "      <th>No of Levels</th>\n",
              "      <th>Levels</th>\n",
              "    </tr>\n",
              "  </thead>\n",
              "  <tbody>\n",
              "    <tr>\n",
              "      <th>Loan_ID</th>\n",
              "      <td>int64</td>\n",
              "      <td>0</td>\n",
              "      <td>109541</td>\n",
              "      <td>[10164310 10164311 10164312 ... 10273848 10273...</td>\n",
              "    </tr>\n",
              "    <tr>\n",
              "      <th>Loan_Amount_Requested</th>\n",
              "      <td>object</td>\n",
              "      <td>0</td>\n",
              "      <td>1246</td>\n",
              "      <td>['27,500' '26,000' '6,075' ... '24,050' '34,42...</td>\n",
              "    </tr>\n",
              "    <tr>\n",
              "      <th>Length_Employed</th>\n",
              "      <td>object</td>\n",
              "      <td>4936</td>\n",
              "      <td>11</td>\n",
              "      <td>['10+ years' '&lt; 1 year' '6 years' '8 years' '1...</td>\n",
              "    </tr>\n",
              "    <tr>\n",
              "      <th>Home_Owner</th>\n",
              "      <td>object</td>\n",
              "      <td>16711</td>\n",
              "      <td>5</td>\n",
              "      <td>['Mortgage' nan 'Rent' 'Own' 'Other' 'None']</td>\n",
              "    </tr>\n",
              "    <tr>\n",
              "      <th>Annual_Income</th>\n",
              "      <td>float64</td>\n",
              "      <td>16898</td>\n",
              "      <td>9028</td>\n",
              "      <td>[129000.0 110000.0 75000.0 ... 204600.0 49680....</td>\n",
              "    </tr>\n",
              "    <tr>\n",
              "      <th>Income_Verified</th>\n",
              "      <td>object</td>\n",
              "      <td>0</td>\n",
              "      <td>3</td>\n",
              "      <td>['VERIFIED - income' 'not verified' 'VERIFIED ...</td>\n",
              "    </tr>\n",
              "    <tr>\n",
              "      <th>Purpose_Of_Loan</th>\n",
              "      <td>object</td>\n",
              "      <td>0</td>\n",
              "      <td>14</td>\n",
              "      <td>['debt_consolidation' 'credit_card' 'home_impr...</td>\n",
              "    </tr>\n",
              "    <tr>\n",
              "      <th>Debt_To_Income</th>\n",
              "      <td>float64</td>\n",
              "      <td>0</td>\n",
              "      <td>3895</td>\n",
              "      <td>[12.87 11.37 6.83 ... 35.86 38.78 38.76]</td>\n",
              "    </tr>\n",
              "    <tr>\n",
              "      <th>Inquiries_Last_6Mo</th>\n",
              "      <td>int64</td>\n",
              "      <td>0</td>\n",
              "      <td>9</td>\n",
              "      <td>[0 2 1 3 6 4 5 7 8]</td>\n",
              "    </tr>\n",
              "    <tr>\n",
              "      <th>Months_Since_Deliquency</th>\n",
              "      <td>float64</td>\n",
              "      <td>58859</td>\n",
              "      <td>115</td>\n",
              "      <td>[68.0 nan 26.0 18.0 22.0 65.0 47.0 45.0 49.0 6...</td>\n",
              "    </tr>\n",
              "    <tr>\n",
              "      <th>Number_Open_Accounts</th>\n",
              "      <td>int64</td>\n",
              "      <td>0</td>\n",
              "      <td>54</td>\n",
              "      <td>[10 6 5 9 2 19 11 14 4 23 7 17 13 16 12 22 18 ...</td>\n",
              "    </tr>\n",
              "    <tr>\n",
              "      <th>Total_Accounts</th>\n",
              "      <td>int64</td>\n",
              "      <td>0</td>\n",
              "      <td>96</td>\n",
              "      <td>[37 23 20 8 21 3 24 25 16 38 14 15 63 18 29 36...</td>\n",
              "    </tr>\n",
              "    <tr>\n",
              "      <th>Gender</th>\n",
              "      <td>object</td>\n",
              "      <td>0</td>\n",
              "      <td>2</td>\n",
              "      <td>['Male' 'Female']</td>\n",
              "    </tr>\n",
              "  </tbody>\n",
              "</table>\n",
              "</div>"
            ],
            "text/plain": [
              "                        Datatype  ...                                             Levels\n",
              "Loan_ID                    int64  ...  [10164310 10164311 10164312 ... 10273848 10273...\n",
              "Loan_Amount_Requested     object  ...  ['27,500' '26,000' '6,075' ... '24,050' '34,42...\n",
              "Length_Employed           object  ...  ['10+ years' '< 1 year' '6 years' '8 years' '1...\n",
              "Home_Owner                object  ...       ['Mortgage' nan 'Rent' 'Own' 'Other' 'None']\n",
              "Annual_Income            float64  ...  [129000.0 110000.0 75000.0 ... 204600.0 49680....\n",
              "Income_Verified           object  ...  ['VERIFIED - income' 'not verified' 'VERIFIED ...\n",
              "Purpose_Of_Loan           object  ...  ['debt_consolidation' 'credit_card' 'home_impr...\n",
              "Debt_To_Income           float64  ...           [12.87 11.37 6.83 ... 35.86 38.78 38.76]\n",
              "Inquiries_Last_6Mo         int64  ...                                [0 2 1 3 6 4 5 7 8]\n",
              "Months_Since_Deliquency  float64  ...  [68.0 nan 26.0 18.0 22.0 65.0 47.0 45.0 49.0 6...\n",
              "Number_Open_Accounts       int64  ...  [10 6 5 9 2 19 11 14 4 23 7 17 13 16 12 22 18 ...\n",
              "Total_Accounts             int64  ...  [37 23 20 8 21 3 24 25 16 38 14 15 63 18 29 36...\n",
              "Gender                    object  ...                                  ['Male' 'Female']\n",
              "\n",
              "[13 rows x 4 columns]"
            ]
          },
          "metadata": {
            "tags": []
          },
          "execution_count": 350
        }
      ]
    },
    {
      "cell_type": "code",
      "metadata": {
        "id": "hwWR3vRy1Y_4",
        "colab_type": "code",
        "colab": {}
      },
      "source": [
        "train_data['Loan_Amount_Requested'] = train_data['Loan_Amount_Requested'].str.replace(',','')\n"
      ],
      "execution_count": 0,
      "outputs": []
    },
    {
      "cell_type": "code",
      "metadata": {
        "id": "5QJ3oo2Fj6P2",
        "colab_type": "code",
        "colab": {}
      },
      "source": [
        "test_data['Loan_Amount_Requested'] = test_data['Loan_Amount_Requested'].str.replace(',','')"
      ],
      "execution_count": 0,
      "outputs": []
    },
    {
      "cell_type": "code",
      "metadata": {
        "id": "X231neGQ1zM3",
        "colab_type": "code",
        "colab": {
          "base_uri": "https://localhost:8080/",
          "height": 221
        },
        "outputId": "0ece0394-9d97-48c5-c396-c75d97bc808f"
      },
      "source": [
        "print(train_data['Loan_Amount_Requested'].head())\n",
        "print(test_data['Loan_Amount_Requested'].head())"
      ],
      "execution_count": 354,
      "outputs": [
        {
          "output_type": "stream",
          "text": [
            "0     7000\n",
            "1    30000\n",
            "2    24725\n",
            "3    16000\n",
            "4    17000\n",
            "Name: Loan_Amount_Requested, dtype: object\n",
            "0    27500\n",
            "1    26000\n",
            "2     6075\n",
            "3    12000\n",
            "4    35000\n",
            "Name: Loan_Amount_Requested, dtype: object\n"
          ],
          "name": "stdout"
        }
      ]
    },
    {
      "cell_type": "code",
      "metadata": {
        "id": "NVHuJ3US2BOd",
        "colab_type": "code",
        "colab": {}
      },
      "source": [
        "train_data['Loan_Amount_Requested'] = train_data['Loan_Amount_Requested'].astype(float)\n",
        "test_data['Loan_Amount_Requested'] = test_data['Loan_Amount_Requested'].astype(float)"
      ],
      "execution_count": 0,
      "outputs": []
    },
    {
      "cell_type": "code",
      "metadata": {
        "id": "EOZXPjergPYc",
        "colab_type": "code",
        "colab": {}
      },
      "source": [
        "### data type conversion for train data\n",
        "cols=['Length_Employed','Home_Owner','Income_Verified','Purpose_Of_Loan','Gender']\n",
        "train_data[cols] = train_data[cols].astype('category')"
      ],
      "execution_count": 0,
      "outputs": []
    },
    {
      "cell_type": "code",
      "metadata": {
        "id": "heebD8kEvwwO",
        "colab_type": "code",
        "colab": {}
      },
      "source": [
        "### data type conversion for test data\n",
        "test_data[cols] = test_data[cols].astype('category')"
      ],
      "execution_count": 0,
      "outputs": []
    },
    {
      "cell_type": "code",
      "metadata": {
        "id": "_qXNMEgJrYAP",
        "colab_type": "code",
        "colab": {
          "base_uri": "https://localhost:8080/",
          "height": 272
        },
        "outputId": "971ec66e-df36-42e8-c1f5-aae6115c3d3a"
      },
      "source": [
        "train_data.dtypes"
      ],
      "execution_count": 359,
      "outputs": [
        {
          "output_type": "execute_result",
          "data": {
            "text/plain": [
              "Loan_ID                       int64\n",
              "Loan_Amount_Requested       float64\n",
              "Length_Employed            category\n",
              "Home_Owner                 category\n",
              "Annual_Income               float64\n",
              "Income_Verified            category\n",
              "Purpose_Of_Loan            category\n",
              "Debt_To_Income              float64\n",
              "Inquiries_Last_6Mo            int64\n",
              "Months_Since_Deliquency     float64\n",
              "Number_Open_Accounts          int64\n",
              "Total_Accounts                int64\n",
              "Gender                     category\n",
              "Interest_Rate                 int64\n",
              "dtype: object"
            ]
          },
          "metadata": {
            "tags": []
          },
          "execution_count": 359
        }
      ]
    },
    {
      "cell_type": "code",
      "metadata": {
        "id": "92FsJq8GxLA7",
        "colab_type": "code",
        "colab": {
          "base_uri": "https://localhost:8080/",
          "height": 255
        },
        "outputId": "f1422c3f-8dda-4bbb-9577-49d6b9056588"
      },
      "source": [
        "test_data.dtypes"
      ],
      "execution_count": 360,
      "outputs": [
        {
          "output_type": "execute_result",
          "data": {
            "text/plain": [
              "Loan_ID                       int64\n",
              "Loan_Amount_Requested       float64\n",
              "Length_Employed            category\n",
              "Home_Owner                 category\n",
              "Annual_Income               float64\n",
              "Income_Verified            category\n",
              "Purpose_Of_Loan            category\n",
              "Debt_To_Income              float64\n",
              "Inquiries_Last_6Mo            int64\n",
              "Months_Since_Deliquency     float64\n",
              "Number_Open_Accounts          int64\n",
              "Total_Accounts                int64\n",
              "Gender                     category\n",
              "dtype: object"
            ]
          },
          "metadata": {
            "tags": []
          },
          "execution_count": 360
        }
      ]
    },
    {
      "cell_type": "code",
      "metadata": {
        "id": "BORYFOVjkuZj",
        "colab_type": "code",
        "colab": {}
      },
      "source": [
        "## set index for train and test\n",
        "train_data.set_index('Loan_ID',inplace=True)\n",
        "test_data.set_index('Loan_ID',inplace=True)"
      ],
      "execution_count": 0,
      "outputs": []
    },
    {
      "cell_type": "code",
      "metadata": {
        "id": "F8lVtGZIxOMA",
        "colab_type": "code",
        "colab": {}
      },
      "source": [
        "### Filling the missing values\n",
        "### Before that Splitting the train into train and validation data\n",
        "X_train,X_validation,y_train,y_validation = train_test_split(train_data.drop('Interest_Rate',axis=1),train_data['Interest_Rate'],\n",
        "                                                             test_size=0.2,random_state=1234)"
      ],
      "execution_count": 0,
      "outputs": []
    },
    {
      "cell_type": "code",
      "metadata": {
        "id": "OrKoEfR-LQUo",
        "colab_type": "code",
        "colab": {
          "base_uri": "https://localhost:8080/",
          "height": 85
        },
        "outputId": "9234af30-aa1a-4658-d967-7cb7a627e2c0"
      },
      "source": [
        "print(X_train.shape)\n",
        "print(y_train.shape)\n",
        "print(X_validation.shape)\n",
        "print(y_validation.shape)"
      ],
      "execution_count": 364,
      "outputs": [
        {
          "output_type": "stream",
          "text": [
            "(131447, 12)\n",
            "(131447,)\n",
            "(32862, 12)\n",
            "(32862,)\n"
          ],
          "name": "stdout"
        }
      ]
    },
    {
      "cell_type": "code",
      "metadata": {
        "id": "_M2ROWxFyFf_",
        "colab_type": "code",
        "colab": {
          "base_uri": "https://localhost:8080/",
          "height": 221
        },
        "outputId": "92dfd3d8-fa72-4c38-c42d-4ed82699e07e"
      },
      "source": [
        "X_train['Length_Employed'].value_counts()"
      ],
      "execution_count": 365,
      "outputs": [
        {
          "output_type": "execute_result",
          "data": {
            "text/plain": [
              "10+ years    42290\n",
              "2 years      11673\n",
              "3 years      10419\n",
              "< 1 year     10202\n",
              "5 years       8678\n",
              "1 year        8409\n",
              "4 years       7789\n",
              "7 years       7437\n",
              "6 years       7256\n",
              "8 years       6356\n",
              "9 years       5059\n",
              "Name: Length_Employed, dtype: int64"
            ]
          },
          "metadata": {
            "tags": []
          },
          "execution_count": 365
        }
      ]
    },
    {
      "cell_type": "code",
      "metadata": {
        "id": "lalf8VNN0fCy",
        "colab_type": "code",
        "colab": {}
      },
      "source": [
        "### Length_Employed has values which has to be in ordinal form for which mapping is done\n",
        "experience_map={\n",
        "    '< 1 year':'0',\n",
        "    '1 year':'1',\n",
        "    '2 years':'2',\n",
        "    '3 years':'3',\n",
        "    '4 years':'4',\n",
        "    '5 years':'5',\n",
        "    '6 years':'6',\n",
        "    '7 years':'7',\n",
        "    '8 years':'8',\n",
        "    '9 years':'9',\n",
        "    '10+ years': '10',\n",
        "    'NaN':'Unknown',\n",
        "}"
      ],
      "execution_count": 0,
      "outputs": []
    },
    {
      "cell_type": "code",
      "metadata": {
        "id": "Y76nsXOR3Sl0",
        "colab_type": "code",
        "colab": {}
      },
      "source": [
        "def experience_emp(exp):\n",
        "    return experience_map[exp]"
      ],
      "execution_count": 0,
      "outputs": []
    },
    {
      "cell_type": "code",
      "metadata": {
        "id": "spbs59U73dzy",
        "colab_type": "code",
        "colab": {}
      },
      "source": [
        "X_train['Length_Employed']=X_train['Length_Employed'].apply(experience_emp)"
      ],
      "execution_count": 0,
      "outputs": []
    },
    {
      "cell_type": "code",
      "metadata": {
        "id": "hL3p563e3y6A",
        "colab_type": "code",
        "colab": {
          "base_uri": "https://localhost:8080/",
          "height": 119
        },
        "outputId": "71dc18a8-3e80-4fa7-eaf6-84363d0e4353"
      },
      "source": [
        "X_train['Length_Employed'].head(3)"
      ],
      "execution_count": 369,
      "outputs": [
        {
          "output_type": "execute_result",
          "data": {
            "text/plain": [
              "Loan_ID\n",
              "10003909    10\n",
              "10120777     2\n",
              "10129626     2\n",
              "Name: Length_Employed, dtype: category\n",
              "Categories (11, object): [1, 10, 2, 3, ..., 7, 8, 9, 0]"
            ]
          },
          "metadata": {
            "tags": []
          },
          "execution_count": 369
        }
      ]
    },
    {
      "cell_type": "code",
      "metadata": {
        "id": "KKyz5l3O4KBI",
        "colab_type": "code",
        "colab": {}
      },
      "source": [
        "X_validation['Length_Employed']=X_validation['Length_Employed'].apply(experience_emp)"
      ],
      "execution_count": 0,
      "outputs": []
    },
    {
      "cell_type": "code",
      "metadata": {
        "id": "EODOTd0K4WWo",
        "colab_type": "code",
        "colab": {
          "base_uri": "https://localhost:8080/",
          "height": 119
        },
        "outputId": "b72e76b0-9da0-4fbc-ba48-393741019007"
      },
      "source": [
        "X_validation['Length_Employed'].head(3)"
      ],
      "execution_count": 371,
      "outputs": [
        {
          "output_type": "execute_result",
          "data": {
            "text/plain": [
              "Loan_ID\n",
              "10086865    7\n",
              "10123833    9\n",
              "10066639    8\n",
              "Name: Length_Employed, dtype: category\n",
              "Categories (11, object): [1, 10, 2, 3, ..., 7, 8, 9, 0]"
            ]
          },
          "metadata": {
            "tags": []
          },
          "execution_count": 371
        }
      ]
    },
    {
      "cell_type": "code",
      "metadata": {
        "id": "cUmn6_BRPpIn",
        "colab_type": "code",
        "colab": {}
      },
      "source": [
        "test_data['Length_Employed']=test_data['Length_Employed'].apply(experience_emp)"
      ],
      "execution_count": 0,
      "outputs": []
    },
    {
      "cell_type": "code",
      "metadata": {
        "id": "0yYtPiIqQFe7",
        "colab_type": "code",
        "colab": {
          "base_uri": "https://localhost:8080/",
          "height": 119
        },
        "outputId": "0073aee4-2011-4e00-9f8f-fdee0006eb35"
      },
      "source": [
        "test_data['Length_Employed'].head(3)"
      ],
      "execution_count": 373,
      "outputs": [
        {
          "output_type": "execute_result",
          "data": {
            "text/plain": [
              "Loan_ID\n",
              "10164310    10\n",
              "10164311    10\n",
              "10164312     0\n",
              "Name: Length_Employed, dtype: category\n",
              "Categories (11, object): [1, 10, 2, 3, ..., 7, 8, 9, 0]"
            ]
          },
          "metadata": {
            "tags": []
          },
          "execution_count": 373
        }
      ]
    },
    {
      "cell_type": "code",
      "metadata": {
        "id": "hIkvty4WLy_Z",
        "colab_type": "code",
        "colab": {}
      },
      "source": [
        "## Filling NA values requires a value that already exists as a category for categgorical columns\n",
        "X_train['Length_Employed'] = X_train['Length_Employed'].cat.add_categories('Unknown')\n",
        "X_train['Length_Employed'].fillna('Unknown',inplace=True)"
      ],
      "execution_count": 0,
      "outputs": []
    },
    {
      "cell_type": "code",
      "metadata": {
        "id": "mfHnPmzlMBql",
        "colab_type": "code",
        "colab": {}
      },
      "source": [
        "X_validation['Length_Employed'] = X_validation['Length_Employed'].cat.add_categories('Unknown')\n",
        "X_validation['Length_Employed'].fillna('Unknown',inplace=True)"
      ],
      "execution_count": 0,
      "outputs": []
    },
    {
      "cell_type": "code",
      "metadata": {
        "id": "m16wflB0J-aW",
        "colab_type": "code",
        "colab": {}
      },
      "source": [
        "X_train['Home_Owner'].fillna('None',inplace=True) ### Filling empty values with None Category\n",
        "X_validation['Home_Owner'].fillna('None',inplace=True)"
      ],
      "execution_count": 0,
      "outputs": []
    },
    {
      "cell_type": "code",
      "metadata": {
        "id": "rOeSuF-uQQnM",
        "colab_type": "code",
        "colab": {}
      },
      "source": [
        "test_data['Length_Employed'] = test_data['Length_Employed'].cat.add_categories('Unknown')\n",
        "test_data['Length_Employed'].fillna('Unknown',inplace=True)"
      ],
      "execution_count": 0,
      "outputs": []
    },
    {
      "cell_type": "code",
      "metadata": {
        "id": "cac-4mG5NrrW",
        "colab_type": "code",
        "colab": {}
      },
      "source": [
        "test_data['Home_Owner'].fillna('None',inplace=True)"
      ],
      "execution_count": 0,
      "outputs": []
    },
    {
      "cell_type": "code",
      "metadata": {
        "id": "6YFw_dFVOL-h",
        "colab_type": "code",
        "colab": {}
      },
      "source": [
        "X_train['Annual_Income'].fillna(X_train['Annual_Income'].mean(),inplace=True)\n",
        "X_validation['Annual_Income'].fillna(X_validation['Annual_Income'].mean(),inplace=True)"
      ],
      "execution_count": 0,
      "outputs": []
    },
    {
      "cell_type": "code",
      "metadata": {
        "id": "W0nF-o0MOSs9",
        "colab_type": "code",
        "colab": {}
      },
      "source": [
        "test_data['Annual_Income'].fillna(test_data['Annual_Income'].mean(),inplace=True)"
      ],
      "execution_count": 0,
      "outputs": []
    },
    {
      "cell_type": "code",
      "metadata": {
        "id": "D3YrUuooOgGv",
        "colab_type": "code",
        "colab": {}
      },
      "source": [
        "X_train['Months_Since_Deliquency'].fillna(X_train['Months_Since_Deliquency'].mean(),inplace=True)\n",
        "X_validation['Months_Since_Deliquency'].fillna(X_validation['Months_Since_Deliquency'].mean(),inplace=True)"
      ],
      "execution_count": 0,
      "outputs": []
    },
    {
      "cell_type": "code",
      "metadata": {
        "id": "gCB2ogAlO1tu",
        "colab_type": "code",
        "colab": {}
      },
      "source": [
        "X_validation['Months_Since_Deliquency'].fillna(X_validation['Months_Since_Deliquency'].mean(),inplace=True)"
      ],
      "execution_count": 0,
      "outputs": []
    },
    {
      "cell_type": "code",
      "metadata": {
        "id": "Eni3FptgO_8i",
        "colab_type": "code",
        "colab": {}
      },
      "source": [
        "test_data['Months_Since_Deliquency'].fillna(test_data['Months_Since_Deliquency'].mean(),inplace=True)"
      ],
      "execution_count": 0,
      "outputs": []
    },
    {
      "cell_type": "code",
      "metadata": {
        "id": "h_PcNS97PERe",
        "colab_type": "code",
        "colab": {
          "base_uri": "https://localhost:8080/",
          "height": 238
        },
        "outputId": "39bcb5b4-f074-47fd-9c50-00b58b593873"
      },
      "source": [
        "X_train.isna().sum()"
      ],
      "execution_count": 386,
      "outputs": [
        {
          "output_type": "execute_result",
          "data": {
            "text/plain": [
              "Loan_Amount_Requested      0\n",
              "Length_Employed            0\n",
              "Home_Owner                 0\n",
              "Annual_Income              0\n",
              "Income_Verified            0\n",
              "Purpose_Of_Loan            0\n",
              "Debt_To_Income             0\n",
              "Inquiries_Last_6Mo         0\n",
              "Months_Since_Deliquency    0\n",
              "Number_Open_Accounts       0\n",
              "Total_Accounts             0\n",
              "Gender                     0\n",
              "dtype: int64"
            ]
          },
          "metadata": {
            "tags": []
          },
          "execution_count": 386
        }
      ]
    },
    {
      "cell_type": "code",
      "metadata": {
        "id": "2EyvcMyLPSnE",
        "colab_type": "code",
        "colab": {
          "base_uri": "https://localhost:8080/",
          "height": 238
        },
        "outputId": "adf38295-454e-45c9-c371-11ca6603f065"
      },
      "source": [
        "X_validation.isna().sum()"
      ],
      "execution_count": 387,
      "outputs": [
        {
          "output_type": "execute_result",
          "data": {
            "text/plain": [
              "Loan_Amount_Requested      0\n",
              "Length_Employed            0\n",
              "Home_Owner                 0\n",
              "Annual_Income              0\n",
              "Income_Verified            0\n",
              "Purpose_Of_Loan            0\n",
              "Debt_To_Income             0\n",
              "Inquiries_Last_6Mo         0\n",
              "Months_Since_Deliquency    0\n",
              "Number_Open_Accounts       0\n",
              "Total_Accounts             0\n",
              "Gender                     0\n",
              "dtype: int64"
            ]
          },
          "metadata": {
            "tags": []
          },
          "execution_count": 387
        }
      ]
    },
    {
      "cell_type": "code",
      "metadata": {
        "id": "3SLOAyLUPbn4",
        "colab_type": "code",
        "colab": {
          "base_uri": "https://localhost:8080/",
          "height": 238
        },
        "outputId": "11ad14e2-f6dd-4780-bb03-178433490d9b"
      },
      "source": [
        "test_data.isna().sum()"
      ],
      "execution_count": 388,
      "outputs": [
        {
          "output_type": "execute_result",
          "data": {
            "text/plain": [
              "Loan_Amount_Requested      0\n",
              "Length_Employed            0\n",
              "Home_Owner                 0\n",
              "Annual_Income              0\n",
              "Income_Verified            0\n",
              "Purpose_Of_Loan            0\n",
              "Debt_To_Income             0\n",
              "Inquiries_Last_6Mo         0\n",
              "Months_Since_Deliquency    0\n",
              "Number_Open_Accounts       0\n",
              "Total_Accounts             0\n",
              "Gender                     0\n",
              "dtype: int64"
            ]
          },
          "metadata": {
            "tags": []
          },
          "execution_count": 388
        }
      ]
    },
    {
      "cell_type": "code",
      "metadata": {
        "id": "OZf0ZdRWPhe9",
        "colab_type": "code",
        "colab": {}
      },
      "source": [
        "## Label Encoding\n",
        "label_encode_experience = LabelEncoder()\n",
        "label_encode_interest_rate = LabelEncoder()"
      ],
      "execution_count": 0,
      "outputs": []
    },
    {
      "cell_type": "code",
      "metadata": {
        "id": "XVb0X-S_SPOo",
        "colab_type": "code",
        "colab": {}
      },
      "source": [
        "X_train['Length_Employed'] = label_encode_experience.fit_transform(X_train['Length_Employed'])"
      ],
      "execution_count": 0,
      "outputs": []
    },
    {
      "cell_type": "code",
      "metadata": {
        "id": "FaNUsJV_SVWO",
        "colab_type": "code",
        "colab": {}
      },
      "source": [
        "X_validation['Length_Employed'] = label_encode_experience.transform(X_validation['Length_Employed'])"
      ],
      "execution_count": 0,
      "outputs": []
    },
    {
      "cell_type": "code",
      "metadata": {
        "id": "G_krc3sBSr5d",
        "colab_type": "code",
        "colab": {}
      },
      "source": [
        "test_data['Length_Employed'] = label_encode_experience.transform(test_data['Length_Employed'])"
      ],
      "execution_count": 0,
      "outputs": []
    },
    {
      "cell_type": "code",
      "metadata": {
        "id": "t3foX9RwS11I",
        "colab_type": "code",
        "colab": {}
      },
      "source": [
        "y_train = label_encode_interest_rate.fit_transform(y_train)"
      ],
      "execution_count": 0,
      "outputs": []
    },
    {
      "cell_type": "code",
      "metadata": {
        "id": "094PPhkpS7sX",
        "colab_type": "code",
        "colab": {}
      },
      "source": [
        "y_validation = label_encode_interest_rate.fit_transform(y_validation)"
      ],
      "execution_count": 0,
      "outputs": []
    },
    {
      "cell_type": "code",
      "metadata": {
        "id": "hkqke4vGTTOd",
        "colab_type": "code",
        "colab": {}
      },
      "source": [
        "## Get Dummies\n",
        "X_train_dummy_cat = X_train[['Home_Owner','Income_Verified','Purpose_Of_Loan','Gender']]"
      ],
      "execution_count": 0,
      "outputs": []
    },
    {
      "cell_type": "code",
      "metadata": {
        "id": "lsbVbjMzTmH-",
        "colab_type": "code",
        "colab": {}
      },
      "source": [
        "X_train_dummy_cat=pd.get_dummies(columns = ['Home_Owner','Income_Verified','Purpose_Of_Loan','Gender'], \n",
        "                                 data = X_train_dummy_cat, \n",
        "                                 drop_first= True)"
      ],
      "execution_count": 0,
      "outputs": []
    },
    {
      "cell_type": "code",
      "metadata": {
        "id": "n2Wd2qMqU6gm",
        "colab_type": "code",
        "colab": {
          "base_uri": "https://localhost:8080/",
          "height": 210
        },
        "outputId": "fb4fbeb0-9c6b-40ca-e6b3-4dbc22406dd0"
      },
      "source": [
        "X_train_dummy_cat.head(3)"
      ],
      "execution_count": 397,
      "outputs": [
        {
          "output_type": "execute_result",
          "data": {
            "text/html": [
              "<div>\n",
              "<style scoped>\n",
              "    .dataframe tbody tr th:only-of-type {\n",
              "        vertical-align: middle;\n",
              "    }\n",
              "\n",
              "    .dataframe tbody tr th {\n",
              "        vertical-align: top;\n",
              "    }\n",
              "\n",
              "    .dataframe thead th {\n",
              "        text-align: right;\n",
              "    }\n",
              "</style>\n",
              "<table border=\"1\" class=\"dataframe\">\n",
              "  <thead>\n",
              "    <tr style=\"text-align: right;\">\n",
              "      <th></th>\n",
              "      <th>Home_Owner_None</th>\n",
              "      <th>Home_Owner_Other</th>\n",
              "      <th>Home_Owner_Own</th>\n",
              "      <th>Home_Owner_Rent</th>\n",
              "      <th>Income_Verified_VERIFIED - income source</th>\n",
              "      <th>Income_Verified_not verified</th>\n",
              "      <th>Purpose_Of_Loan_credit_card</th>\n",
              "      <th>Purpose_Of_Loan_debt_consolidation</th>\n",
              "      <th>Purpose_Of_Loan_educational</th>\n",
              "      <th>Purpose_Of_Loan_home_improvement</th>\n",
              "      <th>Purpose_Of_Loan_house</th>\n",
              "      <th>Purpose_Of_Loan_major_purchase</th>\n",
              "      <th>Purpose_Of_Loan_medical</th>\n",
              "      <th>Purpose_Of_Loan_moving</th>\n",
              "      <th>Purpose_Of_Loan_other</th>\n",
              "      <th>Purpose_Of_Loan_renewable_energy</th>\n",
              "      <th>Purpose_Of_Loan_small_business</th>\n",
              "      <th>Purpose_Of_Loan_vacation</th>\n",
              "      <th>Purpose_Of_Loan_wedding</th>\n",
              "      <th>Gender_Male</th>\n",
              "    </tr>\n",
              "    <tr>\n",
              "      <th>Loan_ID</th>\n",
              "      <th></th>\n",
              "      <th></th>\n",
              "      <th></th>\n",
              "      <th></th>\n",
              "      <th></th>\n",
              "      <th></th>\n",
              "      <th></th>\n",
              "      <th></th>\n",
              "      <th></th>\n",
              "      <th></th>\n",
              "      <th></th>\n",
              "      <th></th>\n",
              "      <th></th>\n",
              "      <th></th>\n",
              "      <th></th>\n",
              "      <th></th>\n",
              "      <th></th>\n",
              "      <th></th>\n",
              "      <th></th>\n",
              "      <th></th>\n",
              "    </tr>\n",
              "  </thead>\n",
              "  <tbody>\n",
              "    <tr>\n",
              "      <th>10003909</th>\n",
              "      <td>0</td>\n",
              "      <td>0</td>\n",
              "      <td>0</td>\n",
              "      <td>0</td>\n",
              "      <td>0</td>\n",
              "      <td>1</td>\n",
              "      <td>0</td>\n",
              "      <td>1</td>\n",
              "      <td>0</td>\n",
              "      <td>0</td>\n",
              "      <td>0</td>\n",
              "      <td>0</td>\n",
              "      <td>0</td>\n",
              "      <td>0</td>\n",
              "      <td>0</td>\n",
              "      <td>0</td>\n",
              "      <td>0</td>\n",
              "      <td>0</td>\n",
              "      <td>0</td>\n",
              "      <td>1</td>\n",
              "    </tr>\n",
              "    <tr>\n",
              "      <th>10120777</th>\n",
              "      <td>0</td>\n",
              "      <td>0</td>\n",
              "      <td>0</td>\n",
              "      <td>0</td>\n",
              "      <td>1</td>\n",
              "      <td>0</td>\n",
              "      <td>0</td>\n",
              "      <td>1</td>\n",
              "      <td>0</td>\n",
              "      <td>0</td>\n",
              "      <td>0</td>\n",
              "      <td>0</td>\n",
              "      <td>0</td>\n",
              "      <td>0</td>\n",
              "      <td>0</td>\n",
              "      <td>0</td>\n",
              "      <td>0</td>\n",
              "      <td>0</td>\n",
              "      <td>0</td>\n",
              "      <td>1</td>\n",
              "    </tr>\n",
              "    <tr>\n",
              "      <th>10129626</th>\n",
              "      <td>0</td>\n",
              "      <td>0</td>\n",
              "      <td>0</td>\n",
              "      <td>0</td>\n",
              "      <td>0</td>\n",
              "      <td>1</td>\n",
              "      <td>0</td>\n",
              "      <td>0</td>\n",
              "      <td>0</td>\n",
              "      <td>0</td>\n",
              "      <td>0</td>\n",
              "      <td>0</td>\n",
              "      <td>0</td>\n",
              "      <td>0</td>\n",
              "      <td>0</td>\n",
              "      <td>0</td>\n",
              "      <td>0</td>\n",
              "      <td>0</td>\n",
              "      <td>0</td>\n",
              "      <td>1</td>\n",
              "    </tr>\n",
              "  </tbody>\n",
              "</table>\n",
              "</div>"
            ],
            "text/plain": [
              "          Home_Owner_None  ...  Gender_Male\n",
              "Loan_ID                    ...             \n",
              "10003909                0  ...            1\n",
              "10120777                0  ...            1\n",
              "10129626                0  ...            1\n",
              "\n",
              "[3 rows x 20 columns]"
            ]
          },
          "metadata": {
            "tags": []
          },
          "execution_count": 397
        }
      ]
    },
    {
      "cell_type": "code",
      "metadata": {
        "id": "Q2g60LBETnuv",
        "colab_type": "code",
        "colab": {}
      },
      "source": [
        "X_validation_dummy_cat = X_validation[['Home_Owner','Income_Verified','Purpose_Of_Loan','Gender']]\n",
        "X_validation_dummy_cat=pd.get_dummies(columns = ['Home_Owner','Income_Verified','Purpose_Of_Loan','Gender'], \n",
        "                                 data = X_validation_dummy_cat, \n",
        "                                 drop_first= True)"
      ],
      "execution_count": 0,
      "outputs": []
    },
    {
      "cell_type": "code",
      "metadata": {
        "id": "Bel3dls0VMcL",
        "colab_type": "code",
        "colab": {
          "base_uri": "https://localhost:8080/",
          "height": 210
        },
        "outputId": "9c8bb525-a10e-41bc-8641-fcedfea4736a"
      },
      "source": [
        "X_validation_dummy_cat.head(3)"
      ],
      "execution_count": 399,
      "outputs": [
        {
          "output_type": "execute_result",
          "data": {
            "text/html": [
              "<div>\n",
              "<style scoped>\n",
              "    .dataframe tbody tr th:only-of-type {\n",
              "        vertical-align: middle;\n",
              "    }\n",
              "\n",
              "    .dataframe tbody tr th {\n",
              "        vertical-align: top;\n",
              "    }\n",
              "\n",
              "    .dataframe thead th {\n",
              "        text-align: right;\n",
              "    }\n",
              "</style>\n",
              "<table border=\"1\" class=\"dataframe\">\n",
              "  <thead>\n",
              "    <tr style=\"text-align: right;\">\n",
              "      <th></th>\n",
              "      <th>Home_Owner_None</th>\n",
              "      <th>Home_Owner_Other</th>\n",
              "      <th>Home_Owner_Own</th>\n",
              "      <th>Home_Owner_Rent</th>\n",
              "      <th>Income_Verified_VERIFIED - income source</th>\n",
              "      <th>Income_Verified_not verified</th>\n",
              "      <th>Purpose_Of_Loan_credit_card</th>\n",
              "      <th>Purpose_Of_Loan_debt_consolidation</th>\n",
              "      <th>Purpose_Of_Loan_educational</th>\n",
              "      <th>Purpose_Of_Loan_home_improvement</th>\n",
              "      <th>Purpose_Of_Loan_house</th>\n",
              "      <th>Purpose_Of_Loan_major_purchase</th>\n",
              "      <th>Purpose_Of_Loan_medical</th>\n",
              "      <th>Purpose_Of_Loan_moving</th>\n",
              "      <th>Purpose_Of_Loan_other</th>\n",
              "      <th>Purpose_Of_Loan_renewable_energy</th>\n",
              "      <th>Purpose_Of_Loan_small_business</th>\n",
              "      <th>Purpose_Of_Loan_vacation</th>\n",
              "      <th>Purpose_Of_Loan_wedding</th>\n",
              "      <th>Gender_Male</th>\n",
              "    </tr>\n",
              "    <tr>\n",
              "      <th>Loan_ID</th>\n",
              "      <th></th>\n",
              "      <th></th>\n",
              "      <th></th>\n",
              "      <th></th>\n",
              "      <th></th>\n",
              "      <th></th>\n",
              "      <th></th>\n",
              "      <th></th>\n",
              "      <th></th>\n",
              "      <th></th>\n",
              "      <th></th>\n",
              "      <th></th>\n",
              "      <th></th>\n",
              "      <th></th>\n",
              "      <th></th>\n",
              "      <th></th>\n",
              "      <th></th>\n",
              "      <th></th>\n",
              "      <th></th>\n",
              "      <th></th>\n",
              "    </tr>\n",
              "  </thead>\n",
              "  <tbody>\n",
              "    <tr>\n",
              "      <th>10086865</th>\n",
              "      <td>1</td>\n",
              "      <td>0</td>\n",
              "      <td>0</td>\n",
              "      <td>0</td>\n",
              "      <td>0</td>\n",
              "      <td>0</td>\n",
              "      <td>0</td>\n",
              "      <td>1</td>\n",
              "      <td>0</td>\n",
              "      <td>0</td>\n",
              "      <td>0</td>\n",
              "      <td>0</td>\n",
              "      <td>0</td>\n",
              "      <td>0</td>\n",
              "      <td>0</td>\n",
              "      <td>0</td>\n",
              "      <td>0</td>\n",
              "      <td>0</td>\n",
              "      <td>0</td>\n",
              "      <td>1</td>\n",
              "    </tr>\n",
              "    <tr>\n",
              "      <th>10123833</th>\n",
              "      <td>0</td>\n",
              "      <td>0</td>\n",
              "      <td>0</td>\n",
              "      <td>0</td>\n",
              "      <td>1</td>\n",
              "      <td>0</td>\n",
              "      <td>0</td>\n",
              "      <td>1</td>\n",
              "      <td>0</td>\n",
              "      <td>0</td>\n",
              "      <td>0</td>\n",
              "      <td>0</td>\n",
              "      <td>0</td>\n",
              "      <td>0</td>\n",
              "      <td>0</td>\n",
              "      <td>0</td>\n",
              "      <td>0</td>\n",
              "      <td>0</td>\n",
              "      <td>0</td>\n",
              "      <td>1</td>\n",
              "    </tr>\n",
              "    <tr>\n",
              "      <th>10066639</th>\n",
              "      <td>0</td>\n",
              "      <td>0</td>\n",
              "      <td>0</td>\n",
              "      <td>1</td>\n",
              "      <td>1</td>\n",
              "      <td>0</td>\n",
              "      <td>0</td>\n",
              "      <td>0</td>\n",
              "      <td>0</td>\n",
              "      <td>0</td>\n",
              "      <td>0</td>\n",
              "      <td>0</td>\n",
              "      <td>0</td>\n",
              "      <td>0</td>\n",
              "      <td>1</td>\n",
              "      <td>0</td>\n",
              "      <td>0</td>\n",
              "      <td>0</td>\n",
              "      <td>0</td>\n",
              "      <td>1</td>\n",
              "    </tr>\n",
              "  </tbody>\n",
              "</table>\n",
              "</div>"
            ],
            "text/plain": [
              "          Home_Owner_None  ...  Gender_Male\n",
              "Loan_ID                    ...             \n",
              "10086865                1  ...            1\n",
              "10123833                0  ...            1\n",
              "10066639                0  ...            1\n",
              "\n",
              "[3 rows x 20 columns]"
            ]
          },
          "metadata": {
            "tags": []
          },
          "execution_count": 399
        }
      ]
    },
    {
      "cell_type": "code",
      "metadata": {
        "id": "1gyRsTn-VRUA",
        "colab_type": "code",
        "colab": {}
      },
      "source": [
        "Test_dummy_cat = test_data[['Home_Owner','Income_Verified','Purpose_Of_Loan','Gender']]\n",
        "Test_dummy_cat = pd.get_dummies(columns = ['Home_Owner','Income_Verified','Purpose_Of_Loan','Gender'], \n",
        "                                data = Test_dummy_cat, \n",
        "                                drop_first= True)"
      ],
      "execution_count": 0,
      "outputs": []
    },
    {
      "cell_type": "code",
      "metadata": {
        "id": "UAJNYuMFVu34",
        "colab_type": "code",
        "colab": {}
      },
      "source": [
        "X_train.drop(['Home_Owner','Income_Verified','Purpose_Of_Loan','Gender'],axis=1,inplace=True)"
      ],
      "execution_count": 0,
      "outputs": []
    },
    {
      "cell_type": "code",
      "metadata": {
        "id": "X-Jt1wEnV5hS",
        "colab_type": "code",
        "colab": {}
      },
      "source": [
        "X_validation.drop(['Home_Owner','Income_Verified','Purpose_Of_Loan','Gender'],axis=1,inplace=True)"
      ],
      "execution_count": 0,
      "outputs": []
    },
    {
      "cell_type": "code",
      "metadata": {
        "id": "CMVJdin9ln8R",
        "colab_type": "code",
        "colab": {}
      },
      "source": [
        "test_data.drop(['Home_Owner','Income_Verified','Purpose_Of_Loan','Gender'],axis=1,inplace=True)"
      ],
      "execution_count": 0,
      "outputs": []
    },
    {
      "cell_type": "code",
      "metadata": {
        "id": "RlL5z6BNWQfB",
        "colab_type": "code",
        "colab": {
          "base_uri": "https://localhost:8080/",
          "height": 68
        },
        "outputId": "cb62fe01-2e61-496c-b9a5-0765e064c17e"
      },
      "source": [
        "print(X_train_dummy_cat.shape)\n",
        "print(X_validation_dummy_cat.shape)\n",
        "print(Test_dummy_cat.shape)"
      ],
      "execution_count": 403,
      "outputs": [
        {
          "output_type": "stream",
          "text": [
            "(131447, 20)\n",
            "(32862, 20)\n",
            "(109541, 20)\n"
          ],
          "name": "stdout"
        }
      ]
    },
    {
      "cell_type": "code",
      "metadata": {
        "id": "3trlFRHuWejm",
        "colab_type": "code",
        "colab": {
          "base_uri": "https://localhost:8080/",
          "height": 68
        },
        "outputId": "17510ba1-c0a8-48dc-c10d-bcccc2b1c508"
      },
      "source": [
        "print(X_train.shape)\n",
        "print(X_validation.shape)\n",
        "print(test_data.shape)"
      ],
      "execution_count": 407,
      "outputs": [
        {
          "output_type": "stream",
          "text": [
            "(131447, 8)\n",
            "(32862, 8)\n",
            "(109541, 8)\n"
          ],
          "name": "stdout"
        }
      ]
    },
    {
      "cell_type": "code",
      "metadata": {
        "id": "rautm4diYdPP",
        "colab_type": "code",
        "colab": {}
      },
      "source": [
        "train1_data = pd.concat([X_train, X_train_dummy_cat], axis=1,sort=False)"
      ],
      "execution_count": 0,
      "outputs": []
    },
    {
      "cell_type": "code",
      "metadata": {
        "id": "iIOdpLdGZNrr",
        "colab_type": "code",
        "colab": {}
      },
      "source": [
        "validation_data = pd.concat([X_validation, X_validation_dummy_cat], axis=1,sort=False)"
      ],
      "execution_count": 0,
      "outputs": []
    },
    {
      "cell_type": "code",
      "metadata": {
        "id": "77SyUEK1ZStQ",
        "colab_type": "code",
        "colab": {}
      },
      "source": [
        "Test1_Data = pd.concat([test_data, Test_dummy_cat], axis=1,sort=False)\n"
      ],
      "execution_count": 0,
      "outputs": []
    },
    {
      "cell_type": "code",
      "metadata": {
        "id": "CLoFmpOSZdYe",
        "colab_type": "code",
        "colab": {}
      },
      "source": [
        "temp = pd.DataFrame(y_train)"
      ],
      "execution_count": 0,
      "outputs": []
    },
    {
      "cell_type": "code",
      "metadata": {
        "id": "RyeO8gW0ZfTS",
        "colab_type": "code",
        "colab": {
          "base_uri": "https://localhost:8080/",
          "height": 51
        },
        "outputId": "58082d0c-c58b-479c-a052-b2b4c2ee97c4"
      },
      "source": [
        "temp.isna().sum()"
      ],
      "execution_count": 412,
      "outputs": [
        {
          "output_type": "execute_result",
          "data": {
            "text/plain": [
              "0    0\n",
              "dtype: int64"
            ]
          },
          "metadata": {
            "tags": []
          },
          "execution_count": 412
        }
      ]
    },
    {
      "cell_type": "code",
      "metadata": {
        "id": "OGCRMd6hchgi",
        "colab_type": "code",
        "colab": {}
      },
      "source": [
        "temp = Test1_Data.copy()"
      ],
      "execution_count": 0,
      "outputs": []
    },
    {
      "cell_type": "code",
      "metadata": {
        "id": "6ROQQbwuZhHs",
        "colab_type": "code",
        "colab": {}
      },
      "source": [
        "#xgb = XGBClassifier() ## Instantiate XGBClassifier model\n",
        "\n",
        "#optimization_dict = {'max_depth': [2,3,4,5,6,7], ## trying with different max_depth,n_estimators to find best model\n",
        "#                     'n_estimators': [50,60,70,80,90,100,150,200]} \n",
        "\n",
        "## Build best model with Grid Search params\n",
        "#model = GridSearchCV(xgb, ## XGB model\n",
        "#                     optimization_dict, ## dictory with different max_depth,n_estimators\n",
        "#                     scoring='accuracy', ## on which parameter we are interested\n",
        "#                     verbose=1, ## for messaging purpose\n",
        "#                     n_jobs=-1) ## Number of jobs to run in parallel. ''-1' means use all processors\n",
        "\n",
        "#%time model.fit(train_data, y_train) ## Fit a model\n",
        "#print(model.best_score_) ## Display best score calues\n",
        "#print(model.best_params_) ## Display best parameters"
      ],
      "execution_count": 0,
      "outputs": []
    },
    {
      "cell_type": "code",
      "metadata": {
        "id": "zSh8mjrxZlfU",
        "colab_type": "code",
        "colab": {
          "base_uri": "https://localhost:8080/",
          "height": 170
        },
        "outputId": "8f623e64-838b-47c4-dc41-8f2a2c105104"
      },
      "source": [
        "## The best params were found after grid search CV (above code)\n",
        "model = XGBClassifier(max_depth=6, n_estimators=200,learning_rate = 0.001,\n",
        "                      booster ='gbtree',random_state=1234)\n",
        "%time model.fit(train1_data, y_train)"
      ],
      "execution_count": 414,
      "outputs": [
        {
          "output_type": "stream",
          "text": [
            "CPU times: user 2min 24s, sys: 208 ms, total: 2min 24s\n",
            "Wall time: 2min 26s\n"
          ],
          "name": "stdout"
        },
        {
          "output_type": "execute_result",
          "data": {
            "text/plain": [
              "XGBClassifier(base_score=0.5, booster='gbtree', colsample_bylevel=1,\n",
              "              colsample_bynode=1, colsample_bytree=1, gamma=0,\n",
              "              learning_rate=0.001, max_delta_step=0, max_depth=6,\n",
              "              min_child_weight=1, missing=None, n_estimators=200, n_jobs=1,\n",
              "              nthread=None, objective='multi:softprob', random_state=1234,\n",
              "              reg_alpha=0, reg_lambda=1, scale_pos_weight=1, seed=None,\n",
              "              silent=None, subsample=1, verbosity=1)"
            ]
          },
          "metadata": {
            "tags": []
          },
          "execution_count": 414
        }
      ]
    },
    {
      "cell_type": "code",
      "metadata": {
        "id": "LSJ78XiTZuBl",
        "colab_type": "code",
        "colab": {}
      },
      "source": [
        "## Get the predictions on train data\n",
        "train_pred = model.predict(train1_data)"
      ],
      "execution_count": 0,
      "outputs": []
    },
    {
      "cell_type": "code",
      "metadata": {
        "id": "foa1MWNqbxVM",
        "colab_type": "code",
        "colab": {
          "base_uri": "https://localhost:8080/",
          "height": 34
        },
        "outputId": "340af08f-1e11-48b7-ca16-854d57818879"
      },
      "source": [
        "## Display accuracy value for train data\n",
        "print(\"Train Accuracy :\",accuracy_score(y_train,train_pred))"
      ],
      "execution_count": 416,
      "outputs": [
        {
          "output_type": "stream",
          "text": [
            "Train Accuracy : 0.5115065387570655\n"
          ],
          "name": "stdout"
        }
      ]
    },
    {
      "cell_type": "code",
      "metadata": {
        "id": "B1KvXwGCb2uP",
        "colab_type": "code",
        "colab": {}
      },
      "source": [
        "## Get the predictions on validation data\n",
        "validation_pred = model.predict(validation_data)"
      ],
      "execution_count": 0,
      "outputs": []
    },
    {
      "cell_type": "code",
      "metadata": {
        "id": "EsHuvH-Fb72E",
        "colab_type": "code",
        "colab": {
          "base_uri": "https://localhost:8080/",
          "height": 34
        },
        "outputId": "0d3cac45-d9d1-472a-dbf2-1f5974e52e11"
      },
      "source": [
        "## Display  accuracy value for validation data\n",
        "print(\"Validation Accuracy :\",accuracy_score(y_validation,validation_pred))"
      ],
      "execution_count": 418,
      "outputs": [
        {
          "output_type": "stream",
          "text": [
            "Validation Accuracy : 0.5079727344653399\n"
          ],
          "name": "stdout"
        }
      ]
    },
    {
      "cell_type": "code",
      "metadata": {
        "id": "duazvKc2cFYD",
        "colab_type": "code",
        "colab": {
          "base_uri": "https://localhost:8080/",
          "height": 68
        },
        "outputId": "a048df9b-af4f-4542-8296-751a58fef29b"
      },
      "source": [
        "## Get the confusion matrix for train data\n",
        "confusion_matrix_train = confusion_matrix(y_train, train_pred)\n",
        "print(confusion_matrix_train)"
      ],
      "execution_count": 419,
      "outputs": [
        {
          "output_type": "stream",
          "text": [
            "[[ 3137 19081  4864]\n",
            " [ 2060 39071 15417]\n",
            " [  566 22223 25028]]\n"
          ],
          "name": "stdout"
        }
      ]
    },
    {
      "cell_type": "code",
      "metadata": {
        "id": "JNudm9DhcJhu",
        "colab_type": "code",
        "colab": {
          "base_uri": "https://localhost:8080/",
          "height": 68
        },
        "outputId": "d04a1827-7e09-49a4-fbf4-c5075dbc5e24"
      },
      "source": [
        "## Get the confusion matrix for validation data\n",
        "confusion_matrix_validation = confusion_matrix(y_validation, validation_pred)\n",
        "print(confusion_matrix_validation)"
      ],
      "execution_count": 420,
      "outputs": [
        {
          "output_type": "stream",
          "text": [
            "[[ 739 4732 1253]\n",
            " [ 523 9607 3902]\n",
            " [ 134 5625 6347]]\n"
          ],
          "name": "stdout"
        }
      ]
    },
    {
      "cell_type": "code",
      "metadata": {
        "id": "kzEL8FkqcYtG",
        "colab_type": "code",
        "colab": {}
      },
      "source": [
        "## Get the predictions on test data\n",
        "y_pred = model.predict(temp)"
      ],
      "execution_count": 0,
      "outputs": []
    },
    {
      "cell_type": "code",
      "metadata": {
        "id": "H8kjwVfOcqEY",
        "colab_type": "code",
        "colab": {
          "base_uri": "https://localhost:8080/",
          "height": 34
        },
        "outputId": "71960487-d735-46f3-ad97-f231a3446514"
      },
      "source": [
        "y_pred"
      ],
      "execution_count": 299,
      "outputs": [
        {
          "output_type": "execute_result",
          "data": {
            "text/plain": [
              "array([1, 0, 2, ..., 1, 2, 1])"
            ]
          },
          "metadata": {
            "tags": []
          },
          "execution_count": 299
        }
      ]
    },
    {
      "cell_type": "code",
      "metadata": {
        "id": "QOtv9FPHc2vg",
        "colab_type": "code",
        "colab": {}
      },
      "source": [
        "temp1 = temp.copy()"
      ],
      "execution_count": 0,
      "outputs": []
    },
    {
      "cell_type": "code",
      "metadata": {
        "id": "ABESho-Ic5th",
        "colab_type": "code",
        "colab": {
          "base_uri": "https://localhost:8080/",
          "height": 272
        },
        "outputId": "626e0dd0-7c24-45cc-894d-a46d4fb9a433"
      },
      "source": [
        "temp1.head()"
      ],
      "execution_count": 426,
      "outputs": [
        {
          "output_type": "execute_result",
          "data": {
            "text/html": [
              "<div>\n",
              "<style scoped>\n",
              "    .dataframe tbody tr th:only-of-type {\n",
              "        vertical-align: middle;\n",
              "    }\n",
              "\n",
              "    .dataframe tbody tr th {\n",
              "        vertical-align: top;\n",
              "    }\n",
              "\n",
              "    .dataframe thead th {\n",
              "        text-align: right;\n",
              "    }\n",
              "</style>\n",
              "<table border=\"1\" class=\"dataframe\">\n",
              "  <thead>\n",
              "    <tr style=\"text-align: right;\">\n",
              "      <th></th>\n",
              "      <th>Loan_Amount_Requested</th>\n",
              "      <th>Length_Employed</th>\n",
              "      <th>Annual_Income</th>\n",
              "      <th>Debt_To_Income</th>\n",
              "      <th>Inquiries_Last_6Mo</th>\n",
              "      <th>Months_Since_Deliquency</th>\n",
              "      <th>Number_Open_Accounts</th>\n",
              "      <th>Total_Accounts</th>\n",
              "      <th>Home_Owner_None</th>\n",
              "      <th>Home_Owner_Other</th>\n",
              "      <th>Home_Owner_Own</th>\n",
              "      <th>Home_Owner_Rent</th>\n",
              "      <th>Income_Verified_VERIFIED - income source</th>\n",
              "      <th>Income_Verified_not verified</th>\n",
              "      <th>Purpose_Of_Loan_credit_card</th>\n",
              "      <th>Purpose_Of_Loan_debt_consolidation</th>\n",
              "      <th>Purpose_Of_Loan_educational</th>\n",
              "      <th>Purpose_Of_Loan_home_improvement</th>\n",
              "      <th>Purpose_Of_Loan_house</th>\n",
              "      <th>Purpose_Of_Loan_major_purchase</th>\n",
              "      <th>Purpose_Of_Loan_medical</th>\n",
              "      <th>Purpose_Of_Loan_moving</th>\n",
              "      <th>Purpose_Of_Loan_other</th>\n",
              "      <th>Purpose_Of_Loan_renewable_energy</th>\n",
              "      <th>Purpose_Of_Loan_small_business</th>\n",
              "      <th>Purpose_Of_Loan_vacation</th>\n",
              "      <th>Purpose_Of_Loan_wedding</th>\n",
              "      <th>Gender_Male</th>\n",
              "    </tr>\n",
              "    <tr>\n",
              "      <th>Loan_ID</th>\n",
              "      <th></th>\n",
              "      <th></th>\n",
              "      <th></th>\n",
              "      <th></th>\n",
              "      <th></th>\n",
              "      <th></th>\n",
              "      <th></th>\n",
              "      <th></th>\n",
              "      <th></th>\n",
              "      <th></th>\n",
              "      <th></th>\n",
              "      <th></th>\n",
              "      <th></th>\n",
              "      <th></th>\n",
              "      <th></th>\n",
              "      <th></th>\n",
              "      <th></th>\n",
              "      <th></th>\n",
              "      <th></th>\n",
              "      <th></th>\n",
              "      <th></th>\n",
              "      <th></th>\n",
              "      <th></th>\n",
              "      <th></th>\n",
              "      <th></th>\n",
              "      <th></th>\n",
              "      <th></th>\n",
              "      <th></th>\n",
              "    </tr>\n",
              "  </thead>\n",
              "  <tbody>\n",
              "    <tr>\n",
              "      <th>10164310</th>\n",
              "      <td>27500.0</td>\n",
              "      <td>2</td>\n",
              "      <td>129000.0</td>\n",
              "      <td>12.87</td>\n",
              "      <td>0</td>\n",
              "      <td>68.000000</td>\n",
              "      <td>10</td>\n",
              "      <td>37</td>\n",
              "      <td>0</td>\n",
              "      <td>0</td>\n",
              "      <td>0</td>\n",
              "      <td>0</td>\n",
              "      <td>0</td>\n",
              "      <td>0</td>\n",
              "      <td>0</td>\n",
              "      <td>1</td>\n",
              "      <td>0</td>\n",
              "      <td>0</td>\n",
              "      <td>0</td>\n",
              "      <td>0</td>\n",
              "      <td>0</td>\n",
              "      <td>0</td>\n",
              "      <td>0</td>\n",
              "      <td>0</td>\n",
              "      <td>0</td>\n",
              "      <td>0</td>\n",
              "      <td>0</td>\n",
              "      <td>1</td>\n",
              "    </tr>\n",
              "    <tr>\n",
              "      <th>10164311</th>\n",
              "      <td>26000.0</td>\n",
              "      <td>2</td>\n",
              "      <td>110000.0</td>\n",
              "      <td>11.37</td>\n",
              "      <td>0</td>\n",
              "      <td>33.914684</td>\n",
              "      <td>6</td>\n",
              "      <td>23</td>\n",
              "      <td>1</td>\n",
              "      <td>0</td>\n",
              "      <td>0</td>\n",
              "      <td>0</td>\n",
              "      <td>0</td>\n",
              "      <td>1</td>\n",
              "      <td>1</td>\n",
              "      <td>0</td>\n",
              "      <td>0</td>\n",
              "      <td>0</td>\n",
              "      <td>0</td>\n",
              "      <td>0</td>\n",
              "      <td>0</td>\n",
              "      <td>0</td>\n",
              "      <td>0</td>\n",
              "      <td>0</td>\n",
              "      <td>0</td>\n",
              "      <td>0</td>\n",
              "      <td>0</td>\n",
              "      <td>1</td>\n",
              "    </tr>\n",
              "    <tr>\n",
              "      <th>10164312</th>\n",
              "      <td>6075.0</td>\n",
              "      <td>0</td>\n",
              "      <td>75000.0</td>\n",
              "      <td>6.83</td>\n",
              "      <td>2</td>\n",
              "      <td>33.914684</td>\n",
              "      <td>5</td>\n",
              "      <td>20</td>\n",
              "      <td>0</td>\n",
              "      <td>0</td>\n",
              "      <td>0</td>\n",
              "      <td>1</td>\n",
              "      <td>0</td>\n",
              "      <td>0</td>\n",
              "      <td>0</td>\n",
              "      <td>1</td>\n",
              "      <td>0</td>\n",
              "      <td>0</td>\n",
              "      <td>0</td>\n",
              "      <td>0</td>\n",
              "      <td>0</td>\n",
              "      <td>0</td>\n",
              "      <td>0</td>\n",
              "      <td>0</td>\n",
              "      <td>0</td>\n",
              "      <td>0</td>\n",
              "      <td>0</td>\n",
              "      <td>1</td>\n",
              "    </tr>\n",
              "    <tr>\n",
              "      <th>10164313</th>\n",
              "      <td>12000.0</td>\n",
              "      <td>2</td>\n",
              "      <td>73000.0</td>\n",
              "      <td>7.76</td>\n",
              "      <td>0</td>\n",
              "      <td>33.914684</td>\n",
              "      <td>6</td>\n",
              "      <td>8</td>\n",
              "      <td>0</td>\n",
              "      <td>0</td>\n",
              "      <td>0</td>\n",
              "      <td>0</td>\n",
              "      <td>1</td>\n",
              "      <td>0</td>\n",
              "      <td>0</td>\n",
              "      <td>1</td>\n",
              "      <td>0</td>\n",
              "      <td>0</td>\n",
              "      <td>0</td>\n",
              "      <td>0</td>\n",
              "      <td>0</td>\n",
              "      <td>0</td>\n",
              "      <td>0</td>\n",
              "      <td>0</td>\n",
              "      <td>0</td>\n",
              "      <td>0</td>\n",
              "      <td>0</td>\n",
              "      <td>1</td>\n",
              "    </tr>\n",
              "    <tr>\n",
              "      <th>10164314</th>\n",
              "      <td>35000.0</td>\n",
              "      <td>0</td>\n",
              "      <td>156000.0</td>\n",
              "      <td>9.62</td>\n",
              "      <td>0</td>\n",
              "      <td>26.000000</td>\n",
              "      <td>9</td>\n",
              "      <td>21</td>\n",
              "      <td>0</td>\n",
              "      <td>0</td>\n",
              "      <td>0</td>\n",
              "      <td>0</td>\n",
              "      <td>0</td>\n",
              "      <td>1</td>\n",
              "      <td>0</td>\n",
              "      <td>1</td>\n",
              "      <td>0</td>\n",
              "      <td>0</td>\n",
              "      <td>0</td>\n",
              "      <td>0</td>\n",
              "      <td>0</td>\n",
              "      <td>0</td>\n",
              "      <td>0</td>\n",
              "      <td>0</td>\n",
              "      <td>0</td>\n",
              "      <td>0</td>\n",
              "      <td>0</td>\n",
              "      <td>1</td>\n",
              "    </tr>\n",
              "  </tbody>\n",
              "</table>\n",
              "</div>"
            ],
            "text/plain": [
              "          Loan_Amount_Requested  ...  Gender_Male\n",
              "Loan_ID                          ...             \n",
              "10164310                27500.0  ...            1\n",
              "10164311                26000.0  ...            1\n",
              "10164312                 6075.0  ...            1\n",
              "10164313                12000.0  ...            1\n",
              "10164314                35000.0  ...            1\n",
              "\n",
              "[5 rows x 28 columns]"
            ]
          },
          "metadata": {
            "tags": []
          },
          "execution_count": 426
        }
      ]
    },
    {
      "cell_type": "code",
      "metadata": {
        "id": "lOVB82CPc7c8",
        "colab_type": "code",
        "colab": {}
      },
      "source": [
        "temp1['Interest_Rate'] = label_encode_interest_rate.inverse_transform(y_pred)"
      ],
      "execution_count": 0,
      "outputs": []
    },
    {
      "cell_type": "code",
      "metadata": {
        "id": "bLKbNOimiUDc",
        "colab_type": "code",
        "colab": {}
      },
      "source": [
        "temp1.reset_index(inplace=True)\n"
      ],
      "execution_count": 0,
      "outputs": []
    },
    {
      "cell_type": "code",
      "metadata": {
        "id": "wZrSAwNnijK9",
        "colab_type": "code",
        "colab": {
          "base_uri": "https://localhost:8080/",
          "height": 419
        },
        "outputId": "a75dc4cb-74bb-4dbe-cf9f-f0301dbdeac0"
      },
      "source": [
        "Test_Data"
      ],
      "execution_count": 306,
      "outputs": [
        {
          "output_type": "execute_result",
          "data": {
            "text/html": [
              "<div>\n",
              "<style scoped>\n",
              "    .dataframe tbody tr th:only-of-type {\n",
              "        vertical-align: middle;\n",
              "    }\n",
              "\n",
              "    .dataframe tbody tr th {\n",
              "        vertical-align: top;\n",
              "    }\n",
              "\n",
              "    .dataframe thead th {\n",
              "        text-align: right;\n",
              "    }\n",
              "</style>\n",
              "<table border=\"1\" class=\"dataframe\">\n",
              "  <thead>\n",
              "    <tr style=\"text-align: right;\">\n",
              "      <th></th>\n",
              "      <th>Loan_Amount_Requested</th>\n",
              "      <th>Length_Employed</th>\n",
              "      <th>Annual_Income</th>\n",
              "      <th>Debt_To_Income</th>\n",
              "      <th>Inquiries_Last_6Mo</th>\n",
              "      <th>Months_Since_Deliquency</th>\n",
              "      <th>Number_Open_Accounts</th>\n",
              "      <th>Total_Accounts</th>\n",
              "    </tr>\n",
              "  </thead>\n",
              "  <tbody>\n",
              "    <tr>\n",
              "      <th>0</th>\n",
              "      <td>7000.0</td>\n",
              "      <td>2</td>\n",
              "      <td>129000.0</td>\n",
              "      <td>12.87</td>\n",
              "      <td>0</td>\n",
              "      <td>68.000000</td>\n",
              "      <td>10</td>\n",
              "      <td>37</td>\n",
              "    </tr>\n",
              "    <tr>\n",
              "      <th>1</th>\n",
              "      <td>30000.0</td>\n",
              "      <td>2</td>\n",
              "      <td>110000.0</td>\n",
              "      <td>11.37</td>\n",
              "      <td>0</td>\n",
              "      <td>33.914684</td>\n",
              "      <td>6</td>\n",
              "      <td>23</td>\n",
              "    </tr>\n",
              "    <tr>\n",
              "      <th>2</th>\n",
              "      <td>24725.0</td>\n",
              "      <td>0</td>\n",
              "      <td>75000.0</td>\n",
              "      <td>6.83</td>\n",
              "      <td>2</td>\n",
              "      <td>33.914684</td>\n",
              "      <td>5</td>\n",
              "      <td>20</td>\n",
              "    </tr>\n",
              "    <tr>\n",
              "      <th>3</th>\n",
              "      <td>16000.0</td>\n",
              "      <td>2</td>\n",
              "      <td>73000.0</td>\n",
              "      <td>7.76</td>\n",
              "      <td>0</td>\n",
              "      <td>33.914684</td>\n",
              "      <td>6</td>\n",
              "      <td>8</td>\n",
              "    </tr>\n",
              "    <tr>\n",
              "      <th>4</th>\n",
              "      <td>17000.0</td>\n",
              "      <td>0</td>\n",
              "      <td>156000.0</td>\n",
              "      <td>9.62</td>\n",
              "      <td>0</td>\n",
              "      <td>26.000000</td>\n",
              "      <td>9</td>\n",
              "      <td>21</td>\n",
              "    </tr>\n",
              "    <tr>\n",
              "      <th>...</th>\n",
              "      <td>...</td>\n",
              "      <td>...</td>\n",
              "      <td>...</td>\n",
              "      <td>...</td>\n",
              "      <td>...</td>\n",
              "      <td>...</td>\n",
              "      <td>...</td>\n",
              "      <td>...</td>\n",
              "    </tr>\n",
              "    <tr>\n",
              "      <th>109536</th>\n",
              "      <td>8000.0</td>\n",
              "      <td>10</td>\n",
              "      <td>120000.0</td>\n",
              "      <td>8.15</td>\n",
              "      <td>2</td>\n",
              "      <td>32.000000</td>\n",
              "      <td>13</td>\n",
              "      <td>57</td>\n",
              "    </tr>\n",
              "    <tr>\n",
              "      <th>109537</th>\n",
              "      <td>21200.0</td>\n",
              "      <td>2</td>\n",
              "      <td>125000.0</td>\n",
              "      <td>9.08</td>\n",
              "      <td>1</td>\n",
              "      <td>17.000000</td>\n",
              "      <td>9</td>\n",
              "      <td>34</td>\n",
              "    </tr>\n",
              "    <tr>\n",
              "      <th>109538</th>\n",
              "      <td>16000.0</td>\n",
              "      <td>6</td>\n",
              "      <td>37850.0</td>\n",
              "      <td>11.60</td>\n",
              "      <td>0</td>\n",
              "      <td>33.914684</td>\n",
              "      <td>10</td>\n",
              "      <td>11</td>\n",
              "    </tr>\n",
              "    <tr>\n",
              "      <th>109539</th>\n",
              "      <td>14000.0</td>\n",
              "      <td>7</td>\n",
              "      <td>30000.0</td>\n",
              "      <td>24.88</td>\n",
              "      <td>0</td>\n",
              "      <td>33.914684</td>\n",
              "      <td>5</td>\n",
              "      <td>6</td>\n",
              "    </tr>\n",
              "    <tr>\n",
              "      <th>109540</th>\n",
              "      <td>25000.0</td>\n",
              "      <td>3</td>\n",
              "      <td>137000.0</td>\n",
              "      <td>8.66</td>\n",
              "      <td>1</td>\n",
              "      <td>60.000000</td>\n",
              "      <td>8</td>\n",
              "      <td>17</td>\n",
              "    </tr>\n",
              "  </tbody>\n",
              "</table>\n",
              "<p>109541 rows × 8 columns</p>\n",
              "</div>"
            ],
            "text/plain": [
              "        Loan_Amount_Requested  ...  Total_Accounts\n",
              "0                      7000.0  ...              37\n",
              "1                     30000.0  ...              23\n",
              "2                     24725.0  ...              20\n",
              "3                     16000.0  ...               8\n",
              "4                     17000.0  ...              21\n",
              "...                       ...  ...             ...\n",
              "109536                 8000.0  ...              57\n",
              "109537                21200.0  ...              34\n",
              "109538                16000.0  ...              11\n",
              "109539                14000.0  ...               6\n",
              "109540                25000.0  ...              17\n",
              "\n",
              "[109541 rows x 8 columns]"
            ]
          },
          "metadata": {
            "tags": []
          },
          "execution_count": 306
        }
      ]
    },
    {
      "cell_type": "code",
      "metadata": {
        "id": "iR62rOckdPDR",
        "colab_type": "code",
        "colab": {}
      },
      "source": [
        "to_submit_1 = temp1[['Loan_ID', 'Interest_Rate']]"
      ],
      "execution_count": 0,
      "outputs": []
    },
    {
      "cell_type": "code",
      "metadata": {
        "id": "DjhX9PzJdSJP",
        "colab_type": "code",
        "colab": {
          "base_uri": "https://localhost:8080/",
          "height": 34
        },
        "outputId": "d1a12276-5eb0-446d-b4cc-75fff5c0eb1e"
      },
      "source": [
        "to_submit_1.shape"
      ],
      "execution_count": 430,
      "outputs": [
        {
          "output_type": "execute_result",
          "data": {
            "text/plain": [
              "(109541, 2)"
            ]
          },
          "metadata": {
            "tags": []
          },
          "execution_count": 430
        }
      ]
    },
    {
      "cell_type": "code",
      "metadata": {
        "id": "-wUMYxBXnCw5",
        "colab_type": "code",
        "colab": {
          "base_uri": "https://localhost:8080/",
          "height": 34
        },
        "outputId": "a792ede7-abb9-453e-efef-01a686439961"
      },
      "source": [
        "Test1_Data.shape\n"
      ],
      "execution_count": 433,
      "outputs": [
        {
          "output_type": "execute_result",
          "data": {
            "text/plain": [
              "(109541, 28)"
            ]
          },
          "metadata": {
            "tags": []
          },
          "execution_count": 433
        }
      ]
    },
    {
      "cell_type": "code",
      "metadata": {
        "id": "vWV5Pd1-niLK",
        "colab_type": "code",
        "colab": {
          "base_uri": "https://localhost:8080/",
          "height": 85
        },
        "outputId": "49d5ca53-a76a-4f17-8525-718aeb27959a"
      },
      "source": [
        "to_submit_1.Interest_Rate.value_counts()\n"
      ],
      "execution_count": 434,
      "outputs": [
        {
          "output_type": "execute_result",
          "data": {
            "text/plain": [
              "2    71330\n",
              "3    36342\n",
              "1     1869\n",
              "Name: Interest_Rate, dtype: int64"
            ]
          },
          "metadata": {
            "tags": []
          },
          "execution_count": 434
        }
      ]
    },
    {
      "cell_type": "code",
      "metadata": {
        "id": "2NbqCf7lo8eT",
        "colab_type": "code",
        "colab": {
          "base_uri": "https://localhost:8080/",
          "height": 34
        },
        "outputId": "0a80fe04-b72b-4169-8078-65a33432a753"
      },
      "source": [
        "!ls"
      ],
      "execution_count": 439,
      "outputs": [
        {
          "output_type": "stream",
          "text": [
            "gdrive\tsample_data  XGBoost.csv\n"
          ],
          "name": "stdout"
        }
      ]
    },
    {
      "cell_type": "code",
      "metadata": {
        "id": "HdPp8f98nqqU",
        "colab_type": "code",
        "colab": {}
      },
      "source": [
        "## store to_submit into csv file with name xgb_model \n",
        "to_submit_1.to_csv('/contents/gdrive/My Drive/Analytic_vidya/XGB.csv',index = False)"
      ],
      "execution_count": 0,
      "outputs": []
    },
    {
      "cell_type": "code",
      "metadata": {
        "id": "YInFWKYHqgzN",
        "colab_type": "code",
        "colab": {}
      },
      "source": [
        "### Gradient Boosting\n",
        "model = GradientBoostingClassifier(n_estimators=200,learning_rate=0.01)"
      ],
      "execution_count": 0,
      "outputs": []
    },
    {
      "cell_type": "code",
      "metadata": {
        "id": "n7D2F8AjttLT",
        "colab_type": "code",
        "colab": {
          "base_uri": "https://localhost:8080/",
          "height": 221
        },
        "outputId": "671f9a53-a657-45a6-bfad-9ef0c7f07733"
      },
      "source": [
        "%time model.fit(train1_data, y_train)"
      ],
      "execution_count": 444,
      "outputs": [
        {
          "output_type": "stream",
          "text": [
            "CPU times: user 2min 54s, sys: 713 ms, total: 2min 55s\n",
            "Wall time: 2min 58s\n"
          ],
          "name": "stdout"
        },
        {
          "output_type": "execute_result",
          "data": {
            "text/plain": [
              "GradientBoostingClassifier(ccp_alpha=0.0, criterion='friedman_mse', init=None,\n",
              "                           learning_rate=0.01, loss='deviance', max_depth=3,\n",
              "                           max_features=None, max_leaf_nodes=None,\n",
              "                           min_impurity_decrease=0.0, min_impurity_split=None,\n",
              "                           min_samples_leaf=1, min_samples_split=2,\n",
              "                           min_weight_fraction_leaf=0.0, n_estimators=200,\n",
              "                           n_iter_no_change=None, presort='deprecated',\n",
              "                           random_state=None, subsample=1.0, tol=0.0001,\n",
              "                           validation_fraction=0.1, verbose=0,\n",
              "                           warm_start=False)"
            ]
          },
          "metadata": {
            "tags": []
          },
          "execution_count": 444
        }
      ]
    },
    {
      "cell_type": "code",
      "metadata": {
        "id": "OHJPpftUtvzQ",
        "colab_type": "code",
        "colab": {
          "base_uri": "https://localhost:8080/",
          "height": 34
        },
        "outputId": "46a17f64-9a35-486b-8b33-d11b8bf758ea"
      },
      "source": [
        "## Display accuracy value for train data\n",
        "print(\"Train Accuracy :\",accuracy_score(y_train,train_pred))"
      ],
      "execution_count": 446,
      "outputs": [
        {
          "output_type": "stream",
          "text": [
            "Train Accuracy : 0.5115065387570655\n"
          ],
          "name": "stdout"
        }
      ]
    },
    {
      "cell_type": "code",
      "metadata": {
        "id": "JQFd2BZCupB8",
        "colab_type": "code",
        "colab": {
          "base_uri": "https://localhost:8080/",
          "height": 34
        },
        "outputId": "9caac7ac-1b8a-4f28-e95f-cd6ddd56a590"
      },
      "source": [
        "## Display  accuracy value for validation data\n",
        "print(\"Validation Accuracy :\",accuracy_score(y_validation,validation_pred))"
      ],
      "execution_count": 449,
      "outputs": [
        {
          "output_type": "stream",
          "text": [
            "Validation Accuracy : 0.5079727344653399\n"
          ],
          "name": "stdout"
        }
      ]
    },
    {
      "cell_type": "code",
      "metadata": {
        "id": "DqtjOB-mvHE8",
        "colab_type": "code",
        "colab": {
          "base_uri": "https://localhost:8080/",
          "height": 68
        },
        "outputId": "528b3292-665d-43c2-f9bf-3bc6566555b9"
      },
      "source": [
        "## Get the confusion matrix for train data\n",
        "confusion_matrix_train = confusion_matrix(y_train, train_pred)\n",
        "print(confusion_matrix_train)"
      ],
      "execution_count": 450,
      "outputs": [
        {
          "output_type": "stream",
          "text": [
            "[[ 3137 19081  4864]\n",
            " [ 2060 39071 15417]\n",
            " [  566 22223 25028]]\n"
          ],
          "name": "stdout"
        }
      ]
    },
    {
      "cell_type": "code",
      "metadata": {
        "id": "e_rL1B0ivN5i",
        "colab_type": "code",
        "colab": {
          "base_uri": "https://localhost:8080/",
          "height": 68
        },
        "outputId": "ff3100d8-d20c-4bcf-b7a6-71c36c261a51"
      },
      "source": [
        "## Get the confusion matrix for validation data\n",
        "confusion_matrix_validation = confusion_matrix(y_validation, validation_pred)\n",
        "print(confusion_matrix_validation)"
      ],
      "execution_count": 454,
      "outputs": [
        {
          "output_type": "stream",
          "text": [
            "[[ 739 4732 1253]\n",
            " [ 523 9607 3902]\n",
            " [ 134 5625 6347]]\n"
          ],
          "name": "stdout"
        }
      ]
    },
    {
      "cell_type": "code",
      "metadata": {
        "id": "934wLIkHvSM9",
        "colab_type": "code",
        "colab": {}
      },
      "source": [
        "## Get the predictions on test data\n",
        "y_pred = model.predict(temp)"
      ],
      "execution_count": 0,
      "outputs": []
    },
    {
      "cell_type": "code",
      "metadata": {
        "id": "EMzzbSOdvUPQ",
        "colab_type": "code",
        "colab": {}
      },
      "source": [
        "temp1 = temp.copy()"
      ],
      "execution_count": 0,
      "outputs": []
    },
    {
      "cell_type": "code",
      "metadata": {
        "id": "6vb2J23cvW7w",
        "colab_type": "code",
        "colab": {}
      },
      "source": [
        "temp1['Interest_Rate'] = label_encode_interest_rate.inverse_transform(y_pred)"
      ],
      "execution_count": 0,
      "outputs": []
    },
    {
      "cell_type": "code",
      "metadata": {
        "id": "A2z55YQevmJe",
        "colab_type": "code",
        "colab": {}
      },
      "source": [
        "temp1.reset_index(inplace=True)\n"
      ],
      "execution_count": 0,
      "outputs": []
    },
    {
      "cell_type": "code",
      "metadata": {
        "id": "BiCnIPY8vn15",
        "colab_type": "code",
        "colab": {}
      },
      "source": [
        "to_submit_2 = temp1[['Loan_ID', 'Interest_Rate']]\n"
      ],
      "execution_count": 0,
      "outputs": []
    },
    {
      "cell_type": "code",
      "metadata": {
        "id": "ws6hGzTgvpg0",
        "colab_type": "code",
        "colab": {
          "base_uri": "https://localhost:8080/",
          "height": 34
        },
        "outputId": "5773c76e-1e71-493d-dc9f-11d9243f0aa7"
      },
      "source": [
        "to_submit_2.shape"
      ],
      "execution_count": 462,
      "outputs": [
        {
          "output_type": "execute_result",
          "data": {
            "text/plain": [
              "(109541, 2)"
            ]
          },
          "metadata": {
            "tags": []
          },
          "execution_count": 462
        }
      ]
    },
    {
      "cell_type": "code",
      "metadata": {
        "id": "5IQ8jnEFvss_",
        "colab_type": "code",
        "colab": {
          "base_uri": "https://localhost:8080/",
          "height": 34
        },
        "outputId": "a237821a-aaa6-47f8-cb6a-46710d1c91ba"
      },
      "source": [
        "test_data.shape"
      ],
      "execution_count": 463,
      "outputs": [
        {
          "output_type": "execute_result",
          "data": {
            "text/plain": [
              "(109541, 8)"
            ]
          },
          "metadata": {
            "tags": []
          },
          "execution_count": 463
        }
      ]
    },
    {
      "cell_type": "code",
      "metadata": {
        "id": "JS6fdVaCvuuM",
        "colab_type": "code",
        "colab": {
          "base_uri": "https://localhost:8080/",
          "height": 85
        },
        "outputId": "28cf8f60-655e-4413-bbb1-323dce79913c"
      },
      "source": [
        "to_submit_2.Interest_Rate.value_counts()"
      ],
      "execution_count": 464,
      "outputs": [
        {
          "output_type": "execute_result",
          "data": {
            "text/plain": [
              "2    73869\n",
              "3    35628\n",
              "1       44\n",
              "Name: Interest_Rate, dtype: int64"
            ]
          },
          "metadata": {
            "tags": []
          },
          "execution_count": 464
        }
      ]
    },
    {
      "cell_type": "code",
      "metadata": {
        "id": "d7pheqVtwdsu",
        "colab_type": "code",
        "colab": {
          "base_uri": "https://localhost:8080/",
          "height": 34
        },
        "outputId": "34869d6b-8612-44dd-ac5f-2374f8531e00"
      },
      "source": [
        "!ls"
      ],
      "execution_count": 467,
      "outputs": [
        {
          "output_type": "stream",
          "text": [
            "GDB1.csv  gdrive  sample_data  XGBoost.csv\n"
          ],
          "name": "stdout"
        }
      ]
    },
    {
      "cell_type": "code",
      "metadata": {
        "id": "Cm6jDE2Ww6Ng",
        "colab_type": "code",
        "colab": {}
      },
      "source": [
        "os.chdir('//gdrive/My Drive/Analytic_vidya')"
      ],
      "execution_count": 0,
      "outputs": []
    },
    {
      "cell_type": "code",
      "metadata": {
        "id": "VqRELyoLvyRT",
        "colab_type": "code",
        "colab": {}
      },
      "source": [
        "## store to_submit into csv file with name xgb_model \n",
        "to_submit_2.to_csv('/content/gdrive/My Drive/Analytic_vidya/GDB1.csv',index = False)"
      ],
      "execution_count": 0,
      "outputs": []
    }
  ]
}